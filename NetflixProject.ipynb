{
  "nbformat": 4,
  "nbformat_minor": 0,
  "metadata": {
    "colab": {
      "name": "NetflixProject.ipynb",
      "provenance": [],
      "collapsed_sections": [],
      "authorship_tag": "ABX9TyNf+sM1DQLgKt34SU39SXL/",
      "include_colab_link": true
    },
    "kernelspec": {
      "name": "python3",
      "display_name": "Python 3"
    },
    "language_info": {
      "name": "python"
    }
  },
  "cells": [
    {
      "cell_type": "markdown",
      "metadata": {
        "id": "view-in-github",
        "colab_type": "text"
      },
      "source": [
        "<a href=\"https://colab.research.google.com/github/RichaSingh1/Projects/blob/main/NetflixProject.ipynb\" target=\"_parent\"><img src=\"https://colab.research.google.com/assets/colab-badge.svg\" alt=\"Open In Colab\"/></a>"
      ]
    },
    {
      "cell_type": "markdown",
      "source": [
        "###1. Defining Problem Statement and Analysing basic metrics \n",
        "Problem Statement = Analysis of Netflix data set and deriving insights from it.\n",
        "Fields focused in this analysis (Direction) = Showtype, actor and country"
      ],
      "metadata": {
        "id": "RfpDdZ4q9y5_"
      }
    },
    {
      "cell_type": "code",
      "execution_count": null,
      "metadata": {
        "id": "_DwIXK1f9gOf"
      },
      "outputs": [],
      "source": [
        "##Importing Libraries\n",
        "import numpy as np\n",
        "import pandas as pd\n",
        "import matplotlib.pyplot as plt\n",
        "import seaborn as sns"
      ]
    },
    {
      "cell_type": "code",
      "source": [
        "##Importing Dataset\n",
        "!gdown 1Qs_QlhuROGHD4hlo6q1LidaMV5LUuwRu\n",
        "\n",
        "df = pd.read_csv(\"NetflixData.csv\")"
      ],
      "metadata": {
        "id": "b79Cai6mAoTi",
        "colab": {
          "base_uri": "https://localhost:8080/"
        },
        "outputId": "ec27af2a-1a92-40ea-e695-12c5535d95b1"
      },
      "execution_count": null,
      "outputs": [
        {
          "output_type": "stream",
          "name": "stdout",
          "text": [
            "Downloading...\n",
            "From: https://drive.google.com/uc?id=1Qs_QlhuROGHD4hlo6q1LidaMV5LUuwRu\n",
            "To: /content/NetflixData.csv\n",
            "\r  0% 0.00/3.40M [00:00<?, ?B/s]\r100% 3.40M/3.40M [00:00<00:00, 73.9MB/s]\n"
          ]
        }
      ]
    },
    {
      "cell_type": "markdown",
      "source": [
        "###2. Observations on the shape of data, data types of all the attributes, conversion of categorical attributes to 'category' (If required), missing value detection, statistical summary"
      ],
      "metadata": {
        "id": "3x2Z_mkU9B2y"
      }
    },
    {
      "cell_type": "code",
      "source": [
        "df.info() ##Field information on the dataframe - data type and not-null count"
      ],
      "metadata": {
        "id": "7en6tlXoC4dm",
        "colab": {
          "base_uri": "https://localhost:8080/"
        },
        "outputId": "87e2f5be-394c-4d4d-f429-d508b93ec65f"
      },
      "execution_count": null,
      "outputs": [
        {
          "output_type": "stream",
          "name": "stdout",
          "text": [
            "<class 'pandas.core.frame.DataFrame'>\n",
            "RangeIndex: 8807 entries, 0 to 8806\n",
            "Data columns (total 12 columns):\n",
            " #   Column        Non-Null Count  Dtype \n",
            "---  ------        --------------  ----- \n",
            " 0   show_id       8807 non-null   object\n",
            " 1   type          8807 non-null   object\n",
            " 2   title         8807 non-null   object\n",
            " 3   director      6173 non-null   object\n",
            " 4   cast          7982 non-null   object\n",
            " 5   country       7976 non-null   object\n",
            " 6   date_added    8797 non-null   object\n",
            " 7   release_year  8807 non-null   int64 \n",
            " 8   rating        8803 non-null   object\n",
            " 9   duration      8804 non-null   object\n",
            " 10  listed_in     8807 non-null   object\n",
            " 11  description   8807 non-null   object\n",
            "dtypes: int64(1), object(11)\n",
            "memory usage: 825.8+ KB\n"
          ]
        }
      ]
    },
    {
      "cell_type": "markdown",
      "source": [
        "Data has 12 columns for the shows it has released over the years. There is no user facing data regarding if the user has seen, not seen, liked or not liked the shows.\n",
        "Above shows the data type of each column and Non-null count of each column (entries where data is present)."
      ],
      "metadata": {
        "id": "hgeI-e1LsHJn"
      }
    },
    {
      "cell_type": "code",
      "source": [
        "df.head(3) ##Check the top 3 rows of dataframe"
      ],
      "metadata": {
        "id": "wiURvXfH95Ux",
        "colab": {
          "base_uri": "https://localhost:8080/",
          "height": 274
        },
        "outputId": "6dfd7a2b-b8d9-4fd6-a2d5-17eb5967f469"
      },
      "execution_count": null,
      "outputs": [
        {
          "output_type": "execute_result",
          "data": {
            "text/plain": [
              "  show_id     type                 title         director  \\\n",
              "0      s1    Movie  Dick Johnson Is Dead  Kirsten Johnson   \n",
              "1      s2  TV Show         Blood & Water              NaN   \n",
              "2      s3  TV Show             Ganglands  Julien Leclercq   \n",
              "\n",
              "                                                cast        country  \\\n",
              "0                                                NaN  United States   \n",
              "1  Ama Qamata, Khosi Ngema, Gail Mabalane, Thaban...   South Africa   \n",
              "2  Sami Bouajila, Tracy Gotoas, Samuel Jouy, Nabi...            NaN   \n",
              "\n",
              "           date_added  release_year rating   duration  \\\n",
              "0  September 25, 2021          2020  PG-13     90 min   \n",
              "1  September 24, 2021          2021  TV-MA  2 Seasons   \n",
              "2  September 24, 2021          2021  TV-MA   1 Season   \n",
              "\n",
              "                                           listed_in  \\\n",
              "0                                      Documentaries   \n",
              "1    International TV Shows, TV Dramas, TV Mysteries   \n",
              "2  Crime TV Shows, International TV Shows, TV Act...   \n",
              "\n",
              "                                         description  \n",
              "0  As her father nears the end of his life, filmm...  \n",
              "1  After crossing paths at a party, a Cape Town t...  \n",
              "2  To protect his family from a powerful drug lor...  "
            ],
            "text/html": [
              "\n",
              "  <div id=\"df-fcc29207-3b3a-4819-870f-5946f67ea29b\">\n",
              "    <div class=\"colab-df-container\">\n",
              "      <div>\n",
              "<style scoped>\n",
              "    .dataframe tbody tr th:only-of-type {\n",
              "        vertical-align: middle;\n",
              "    }\n",
              "\n",
              "    .dataframe tbody tr th {\n",
              "        vertical-align: top;\n",
              "    }\n",
              "\n",
              "    .dataframe thead th {\n",
              "        text-align: right;\n",
              "    }\n",
              "</style>\n",
              "<table border=\"1\" class=\"dataframe\">\n",
              "  <thead>\n",
              "    <tr style=\"text-align: right;\">\n",
              "      <th></th>\n",
              "      <th>show_id</th>\n",
              "      <th>type</th>\n",
              "      <th>title</th>\n",
              "      <th>director</th>\n",
              "      <th>cast</th>\n",
              "      <th>country</th>\n",
              "      <th>date_added</th>\n",
              "      <th>release_year</th>\n",
              "      <th>rating</th>\n",
              "      <th>duration</th>\n",
              "      <th>listed_in</th>\n",
              "      <th>description</th>\n",
              "    </tr>\n",
              "  </thead>\n",
              "  <tbody>\n",
              "    <tr>\n",
              "      <th>0</th>\n",
              "      <td>s1</td>\n",
              "      <td>Movie</td>\n",
              "      <td>Dick Johnson Is Dead</td>\n",
              "      <td>Kirsten Johnson</td>\n",
              "      <td>NaN</td>\n",
              "      <td>United States</td>\n",
              "      <td>September 25, 2021</td>\n",
              "      <td>2020</td>\n",
              "      <td>PG-13</td>\n",
              "      <td>90 min</td>\n",
              "      <td>Documentaries</td>\n",
              "      <td>As her father nears the end of his life, filmm...</td>\n",
              "    </tr>\n",
              "    <tr>\n",
              "      <th>1</th>\n",
              "      <td>s2</td>\n",
              "      <td>TV Show</td>\n",
              "      <td>Blood &amp; Water</td>\n",
              "      <td>NaN</td>\n",
              "      <td>Ama Qamata, Khosi Ngema, Gail Mabalane, Thaban...</td>\n",
              "      <td>South Africa</td>\n",
              "      <td>September 24, 2021</td>\n",
              "      <td>2021</td>\n",
              "      <td>TV-MA</td>\n",
              "      <td>2 Seasons</td>\n",
              "      <td>International TV Shows, TV Dramas, TV Mysteries</td>\n",
              "      <td>After crossing paths at a party, a Cape Town t...</td>\n",
              "    </tr>\n",
              "    <tr>\n",
              "      <th>2</th>\n",
              "      <td>s3</td>\n",
              "      <td>TV Show</td>\n",
              "      <td>Ganglands</td>\n",
              "      <td>Julien Leclercq</td>\n",
              "      <td>Sami Bouajila, Tracy Gotoas, Samuel Jouy, Nabi...</td>\n",
              "      <td>NaN</td>\n",
              "      <td>September 24, 2021</td>\n",
              "      <td>2021</td>\n",
              "      <td>TV-MA</td>\n",
              "      <td>1 Season</td>\n",
              "      <td>Crime TV Shows, International TV Shows, TV Act...</td>\n",
              "      <td>To protect his family from a powerful drug lor...</td>\n",
              "    </tr>\n",
              "  </tbody>\n",
              "</table>\n",
              "</div>\n",
              "      <button class=\"colab-df-convert\" onclick=\"convertToInteractive('df-fcc29207-3b3a-4819-870f-5946f67ea29b')\"\n",
              "              title=\"Convert this dataframe to an interactive table.\"\n",
              "              style=\"display:none;\">\n",
              "        \n",
              "  <svg xmlns=\"http://www.w3.org/2000/svg\" height=\"24px\"viewBox=\"0 0 24 24\"\n",
              "       width=\"24px\">\n",
              "    <path d=\"M0 0h24v24H0V0z\" fill=\"none\"/>\n",
              "    <path d=\"M18.56 5.44l.94 2.06.94-2.06 2.06-.94-2.06-.94-.94-2.06-.94 2.06-2.06.94zm-11 1L8.5 8.5l.94-2.06 2.06-.94-2.06-.94L8.5 2.5l-.94 2.06-2.06.94zm10 10l.94 2.06.94-2.06 2.06-.94-2.06-.94-.94-2.06-.94 2.06-2.06.94z\"/><path d=\"M17.41 7.96l-1.37-1.37c-.4-.4-.92-.59-1.43-.59-.52 0-1.04.2-1.43.59L10.3 9.45l-7.72 7.72c-.78.78-.78 2.05 0 2.83L4 21.41c.39.39.9.59 1.41.59.51 0 1.02-.2 1.41-.59l7.78-7.78 2.81-2.81c.8-.78.8-2.07 0-2.86zM5.41 20L4 18.59l7.72-7.72 1.47 1.35L5.41 20z\"/>\n",
              "  </svg>\n",
              "      </button>\n",
              "      \n",
              "  <style>\n",
              "    .colab-df-container {\n",
              "      display:flex;\n",
              "      flex-wrap:wrap;\n",
              "      gap: 12px;\n",
              "    }\n",
              "\n",
              "    .colab-df-convert {\n",
              "      background-color: #E8F0FE;\n",
              "      border: none;\n",
              "      border-radius: 50%;\n",
              "      cursor: pointer;\n",
              "      display: none;\n",
              "      fill: #1967D2;\n",
              "      height: 32px;\n",
              "      padding: 0 0 0 0;\n",
              "      width: 32px;\n",
              "    }\n",
              "\n",
              "    .colab-df-convert:hover {\n",
              "      background-color: #E2EBFA;\n",
              "      box-shadow: 0px 1px 2px rgba(60, 64, 67, 0.3), 0px 1px 3px 1px rgba(60, 64, 67, 0.15);\n",
              "      fill: #174EA6;\n",
              "    }\n",
              "\n",
              "    [theme=dark] .colab-df-convert {\n",
              "      background-color: #3B4455;\n",
              "      fill: #D2E3FC;\n",
              "    }\n",
              "\n",
              "    [theme=dark] .colab-df-convert:hover {\n",
              "      background-color: #434B5C;\n",
              "      box-shadow: 0px 1px 3px 1px rgba(0, 0, 0, 0.15);\n",
              "      filter: drop-shadow(0px 1px 2px rgba(0, 0, 0, 0.3));\n",
              "      fill: #FFFFFF;\n",
              "    }\n",
              "  </style>\n",
              "\n",
              "      <script>\n",
              "        const buttonEl =\n",
              "          document.querySelector('#df-fcc29207-3b3a-4819-870f-5946f67ea29b button.colab-df-convert');\n",
              "        buttonEl.style.display =\n",
              "          google.colab.kernel.accessAllowed ? 'block' : 'none';\n",
              "\n",
              "        async function convertToInteractive(key) {\n",
              "          const element = document.querySelector('#df-fcc29207-3b3a-4819-870f-5946f67ea29b');\n",
              "          const dataTable =\n",
              "            await google.colab.kernel.invokeFunction('convertToInteractive',\n",
              "                                                     [key], {});\n",
              "          if (!dataTable) return;\n",
              "\n",
              "          const docLinkHtml = 'Like what you see? Visit the ' +\n",
              "            '<a target=\"_blank\" href=https://colab.research.google.com/notebooks/data_table.ipynb>data table notebook</a>'\n",
              "            + ' to learn more about interactive tables.';\n",
              "          element.innerHTML = '';\n",
              "          dataTable['output_type'] = 'display_data';\n",
              "          await google.colab.output.renderOutput(dataTable, element);\n",
              "          const docLink = document.createElement('div');\n",
              "          docLink.innerHTML = docLinkHtml;\n",
              "          element.appendChild(docLink);\n",
              "        }\n",
              "      </script>\n",
              "    </div>\n",
              "  </div>\n",
              "  "
            ]
          },
          "metadata": {},
          "execution_count": 4
        }
      ]
    },
    {
      "cell_type": "markdown",
      "source": [
        "It can be observed that data has multiple nested columns and missing values (NaN values)"
      ],
      "metadata": {
        "id": "Xd_JJ5Wmsp2w"
      }
    },
    {
      "cell_type": "code",
      "source": [
        "df.shape ##Checking dimensions of the dataframe"
      ],
      "metadata": {
        "id": "N3_6iY1B-EHD",
        "colab": {
          "base_uri": "https://localhost:8080/"
        },
        "outputId": "cbca23a7-ef15-4955-bcff-83dc68bb3e69"
      },
      "execution_count": null,
      "outputs": [
        {
          "output_type": "execute_result",
          "data": {
            "text/plain": [
              "(8807, 12)"
            ]
          },
          "metadata": {},
          "execution_count": 5
        }
      ]
    },
    {
      "cell_type": "markdown",
      "source": [
        "Data has 8807 rows/entries and 12 columns/fields"
      ],
      "metadata": {
        "id": "fVhHMvWRs4Pt"
      }
    },
    {
      "cell_type": "code",
      "source": [
        "df.describe(include=\"object\") ##Checking statistics for each field"
      ],
      "metadata": {
        "colab": {
          "base_uri": "https://localhost:8080/",
          "height": 236
        },
        "id": "smGogKdM-YXD",
        "outputId": "5a1ead90-c9b3-474e-df19-cd4913b60e09"
      },
      "execution_count": null,
      "outputs": [
        {
          "output_type": "execute_result",
          "data": {
            "text/plain": [
              "       show_id   type                 title       director  \\\n",
              "count     8807   8807                  8807           6173   \n",
              "unique    8807      2                  8807           4528   \n",
              "top         s1  Movie  Dick Johnson Is Dead  Rajiv Chilaka   \n",
              "freq         1   6131                     1             19   \n",
              "\n",
              "                      cast        country       date_added rating  duration  \\\n",
              "count                 7982           7976             8797   8803      8804   \n",
              "unique                7692            748             1767     17       220   \n",
              "top     David Attenborough  United States  January 1, 2020  TV-MA  1 Season   \n",
              "freq                    19           2818              109   3207      1793   \n",
              "\n",
              "                           listed_in  \\\n",
              "count                           8807   \n",
              "unique                           514   \n",
              "top     Dramas, International Movies   \n",
              "freq                             362   \n",
              "\n",
              "                                              description  \n",
              "count                                                8807  \n",
              "unique                                               8775  \n",
              "top     Paranormal activity at a lush, abandoned prope...  \n",
              "freq                                                    4  "
            ],
            "text/html": [
              "\n",
              "  <div id=\"df-64cae614-6e72-4134-904c-f0b846dfc97e\">\n",
              "    <div class=\"colab-df-container\">\n",
              "      <div>\n",
              "<style scoped>\n",
              "    .dataframe tbody tr th:only-of-type {\n",
              "        vertical-align: middle;\n",
              "    }\n",
              "\n",
              "    .dataframe tbody tr th {\n",
              "        vertical-align: top;\n",
              "    }\n",
              "\n",
              "    .dataframe thead th {\n",
              "        text-align: right;\n",
              "    }\n",
              "</style>\n",
              "<table border=\"1\" class=\"dataframe\">\n",
              "  <thead>\n",
              "    <tr style=\"text-align: right;\">\n",
              "      <th></th>\n",
              "      <th>show_id</th>\n",
              "      <th>type</th>\n",
              "      <th>title</th>\n",
              "      <th>director</th>\n",
              "      <th>cast</th>\n",
              "      <th>country</th>\n",
              "      <th>date_added</th>\n",
              "      <th>rating</th>\n",
              "      <th>duration</th>\n",
              "      <th>listed_in</th>\n",
              "      <th>description</th>\n",
              "    </tr>\n",
              "  </thead>\n",
              "  <tbody>\n",
              "    <tr>\n",
              "      <th>count</th>\n",
              "      <td>8807</td>\n",
              "      <td>8807</td>\n",
              "      <td>8807</td>\n",
              "      <td>6173</td>\n",
              "      <td>7982</td>\n",
              "      <td>7976</td>\n",
              "      <td>8797</td>\n",
              "      <td>8803</td>\n",
              "      <td>8804</td>\n",
              "      <td>8807</td>\n",
              "      <td>8807</td>\n",
              "    </tr>\n",
              "    <tr>\n",
              "      <th>unique</th>\n",
              "      <td>8807</td>\n",
              "      <td>2</td>\n",
              "      <td>8807</td>\n",
              "      <td>4528</td>\n",
              "      <td>7692</td>\n",
              "      <td>748</td>\n",
              "      <td>1767</td>\n",
              "      <td>17</td>\n",
              "      <td>220</td>\n",
              "      <td>514</td>\n",
              "      <td>8775</td>\n",
              "    </tr>\n",
              "    <tr>\n",
              "      <th>top</th>\n",
              "      <td>s1</td>\n",
              "      <td>Movie</td>\n",
              "      <td>Dick Johnson Is Dead</td>\n",
              "      <td>Rajiv Chilaka</td>\n",
              "      <td>David Attenborough</td>\n",
              "      <td>United States</td>\n",
              "      <td>January 1, 2020</td>\n",
              "      <td>TV-MA</td>\n",
              "      <td>1 Season</td>\n",
              "      <td>Dramas, International Movies</td>\n",
              "      <td>Paranormal activity at a lush, abandoned prope...</td>\n",
              "    </tr>\n",
              "    <tr>\n",
              "      <th>freq</th>\n",
              "      <td>1</td>\n",
              "      <td>6131</td>\n",
              "      <td>1</td>\n",
              "      <td>19</td>\n",
              "      <td>19</td>\n",
              "      <td>2818</td>\n",
              "      <td>109</td>\n",
              "      <td>3207</td>\n",
              "      <td>1793</td>\n",
              "      <td>362</td>\n",
              "      <td>4</td>\n",
              "    </tr>\n",
              "  </tbody>\n",
              "</table>\n",
              "</div>\n",
              "      <button class=\"colab-df-convert\" onclick=\"convertToInteractive('df-64cae614-6e72-4134-904c-f0b846dfc97e')\"\n",
              "              title=\"Convert this dataframe to an interactive table.\"\n",
              "              style=\"display:none;\">\n",
              "        \n",
              "  <svg xmlns=\"http://www.w3.org/2000/svg\" height=\"24px\"viewBox=\"0 0 24 24\"\n",
              "       width=\"24px\">\n",
              "    <path d=\"M0 0h24v24H0V0z\" fill=\"none\"/>\n",
              "    <path d=\"M18.56 5.44l.94 2.06.94-2.06 2.06-.94-2.06-.94-.94-2.06-.94 2.06-2.06.94zm-11 1L8.5 8.5l.94-2.06 2.06-.94-2.06-.94L8.5 2.5l-.94 2.06-2.06.94zm10 10l.94 2.06.94-2.06 2.06-.94-2.06-.94-.94-2.06-.94 2.06-2.06.94z\"/><path d=\"M17.41 7.96l-1.37-1.37c-.4-.4-.92-.59-1.43-.59-.52 0-1.04.2-1.43.59L10.3 9.45l-7.72 7.72c-.78.78-.78 2.05 0 2.83L4 21.41c.39.39.9.59 1.41.59.51 0 1.02-.2 1.41-.59l7.78-7.78 2.81-2.81c.8-.78.8-2.07 0-2.86zM5.41 20L4 18.59l7.72-7.72 1.47 1.35L5.41 20z\"/>\n",
              "  </svg>\n",
              "      </button>\n",
              "      \n",
              "  <style>\n",
              "    .colab-df-container {\n",
              "      display:flex;\n",
              "      flex-wrap:wrap;\n",
              "      gap: 12px;\n",
              "    }\n",
              "\n",
              "    .colab-df-convert {\n",
              "      background-color: #E8F0FE;\n",
              "      border: none;\n",
              "      border-radius: 50%;\n",
              "      cursor: pointer;\n",
              "      display: none;\n",
              "      fill: #1967D2;\n",
              "      height: 32px;\n",
              "      padding: 0 0 0 0;\n",
              "      width: 32px;\n",
              "    }\n",
              "\n",
              "    .colab-df-convert:hover {\n",
              "      background-color: #E2EBFA;\n",
              "      box-shadow: 0px 1px 2px rgba(60, 64, 67, 0.3), 0px 1px 3px 1px rgba(60, 64, 67, 0.15);\n",
              "      fill: #174EA6;\n",
              "    }\n",
              "\n",
              "    [theme=dark] .colab-df-convert {\n",
              "      background-color: #3B4455;\n",
              "      fill: #D2E3FC;\n",
              "    }\n",
              "\n",
              "    [theme=dark] .colab-df-convert:hover {\n",
              "      background-color: #434B5C;\n",
              "      box-shadow: 0px 1px 3px 1px rgba(0, 0, 0, 0.15);\n",
              "      filter: drop-shadow(0px 1px 2px rgba(0, 0, 0, 0.3));\n",
              "      fill: #FFFFFF;\n",
              "    }\n",
              "  </style>\n",
              "\n",
              "      <script>\n",
              "        const buttonEl =\n",
              "          document.querySelector('#df-64cae614-6e72-4134-904c-f0b846dfc97e button.colab-df-convert');\n",
              "        buttonEl.style.display =\n",
              "          google.colab.kernel.accessAllowed ? 'block' : 'none';\n",
              "\n",
              "        async function convertToInteractive(key) {\n",
              "          const element = document.querySelector('#df-64cae614-6e72-4134-904c-f0b846dfc97e');\n",
              "          const dataTable =\n",
              "            await google.colab.kernel.invokeFunction('convertToInteractive',\n",
              "                                                     [key], {});\n",
              "          if (!dataTable) return;\n",
              "\n",
              "          const docLinkHtml = 'Like what you see? Visit the ' +\n",
              "            '<a target=\"_blank\" href=https://colab.research.google.com/notebooks/data_table.ipynb>data table notebook</a>'\n",
              "            + ' to learn more about interactive tables.';\n",
              "          element.innerHTML = '';\n",
              "          dataTable['output_type'] = 'display_data';\n",
              "          await google.colab.output.renderOutput(dataTable, element);\n",
              "          const docLink = document.createElement('div');\n",
              "          docLink.innerHTML = docLinkHtml;\n",
              "          element.appendChild(docLink);\n",
              "        }\n",
              "      </script>\n",
              "    </div>\n",
              "  </div>\n",
              "  "
            ]
          },
          "metadata": {},
          "execution_count": 6
        }
      ]
    },
    {
      "cell_type": "code",
      "source": [
        "df.isnull().sum()"
      ],
      "metadata": {
        "colab": {
          "base_uri": "https://localhost:8080/"
        },
        "id": "iEtpsdattkTM",
        "outputId": "085714ec-ad52-4336-eb03-6e286a3da2e7"
      },
      "execution_count": null,
      "outputs": [
        {
          "output_type": "execute_result",
          "data": {
            "text/plain": [
              "show_id            0\n",
              "type               0\n",
              "title              0\n",
              "director        2634\n",
              "cast             825\n",
              "country          831\n",
              "date_added        10\n",
              "release_year       0\n",
              "rating             4\n",
              "duration           3\n",
              "listed_in          0\n",
              "description        0\n",
              "dtype: int64"
            ]
          },
          "metadata": {},
          "execution_count": 7
        }
      ]
    },
    {
      "cell_type": "markdown",
      "source": [
        "We can observe number of entries with no data present (NaN value) for each field"
      ],
      "metadata": {
        "id": "Lx5BGJLxtxAM"
      }
    },
    {
      "cell_type": "markdown",
      "source": [
        "###3. Data Processing"
      ],
      "metadata": {
        "id": "EdmeVFiWGR8U"
      }
    },
    {
      "cell_type": "code",
      "source": [
        "##Unnesting based on Showtype(listed_in field)\n",
        "type_df = pd.DataFrame(df.listed_in.str.split(', ').tolist(), index=df.show_id).stack().rename('ShowType').reset_index([0, 'show_id']) \n",
        "df2=df.drop('listed_in', axis=1).merge(type_df)"
      ],
      "metadata": {
        "id": "ueNq6w8vICar"
      },
      "execution_count": null,
      "outputs": []
    },
    {
      "cell_type": "code",
      "source": [
        "##Unnesting based on cast(cast field)\n",
        "df3=df2.drop('cast', axis=1).join(df2['cast'].str.split(', ', expand=True).stack(dropna=False).reset_index(level=1, drop=True).rename('cast'))"
      ],
      "metadata": {
        "id": "63H58Kf_k7yr"
      },
      "execution_count": null,
      "outputs": []
    },
    {
      "cell_type": "code",
      "source": [
        "##Unnesting based on country(country field)\n",
        "temp_df=df.drop('country', axis=1).join(df['country'].str.split(', ', expand=True).stack(dropna=False).reset_index(level=1, drop=True).rename('country'))\n",
        "#temp_df['country'].sort_values(ascending=False)"
      ],
      "metadata": {
        "id": "mvKBqYCPlDwG"
      },
      "execution_count": null,
      "outputs": []
    },
    {
      "cell_type": "code",
      "source": [
        "##Merging all for final data for analysis\n",
        "final_df=df3.drop('country', axis=1).merge(temp_df.drop('cast', axis=1),how='right')\n",
        "final_df=final_df.drop('listed_in', axis=1)\n",
        "final_df.head(5)"
      ],
      "metadata": {
        "colab": {
          "base_uri": "https://localhost:8080/",
          "height": 337
        },
        "id": "Ajm87vRClODh",
        "outputId": "10f7b21e-b08e-4fb5-cab7-a962370e8746"
      },
      "execution_count": null,
      "outputs": [
        {
          "output_type": "execute_result",
          "data": {
            "text/plain": [
              "  show_id   type                 title         director          date_added  \\\n",
              "0      s1  Movie  Dick Johnson Is Dead  Kirsten Johnson  September 25, 2021   \n",
              "1      s1  Movie  Dick Johnson Is Dead  Kirsten Johnson  September 25, 2021   \n",
              "2      s1  Movie  Dick Johnson Is Dead  Kirsten Johnson  September 25, 2021   \n",
              "3      s1  Movie  Dick Johnson Is Dead  Kirsten Johnson  September 25, 2021   \n",
              "4      s1  Movie  Dick Johnson Is Dead  Kirsten Johnson  September 25, 2021   \n",
              "\n",
              "   release_year rating duration  \\\n",
              "0          2020  PG-13   90 min   \n",
              "1          2020  PG-13   90 min   \n",
              "2          2020  PG-13   90 min   \n",
              "3          2020  PG-13   90 min   \n",
              "4          2020  PG-13   90 min   \n",
              "\n",
              "                                         description       ShowType cast  \\\n",
              "0  As her father nears the end of his life, filmm...  Documentaries  NaN   \n",
              "1  As her father nears the end of his life, filmm...  Documentaries  NaN   \n",
              "2  As her father nears the end of his life, filmm...  Documentaries  NaN   \n",
              "3  As her father nears the end of his life, filmm...  Documentaries  NaN   \n",
              "4  As her father nears the end of his life, filmm...  Documentaries  NaN   \n",
              "\n",
              "         country  \n",
              "0  United States  \n",
              "1  United States  \n",
              "2  United States  \n",
              "3  United States  \n",
              "4  United States  "
            ],
            "text/html": [
              "\n",
              "  <div id=\"df-31e04661-ec0b-44c1-b441-84dfe34979ac\">\n",
              "    <div class=\"colab-df-container\">\n",
              "      <div>\n",
              "<style scoped>\n",
              "    .dataframe tbody tr th:only-of-type {\n",
              "        vertical-align: middle;\n",
              "    }\n",
              "\n",
              "    .dataframe tbody tr th {\n",
              "        vertical-align: top;\n",
              "    }\n",
              "\n",
              "    .dataframe thead th {\n",
              "        text-align: right;\n",
              "    }\n",
              "</style>\n",
              "<table border=\"1\" class=\"dataframe\">\n",
              "  <thead>\n",
              "    <tr style=\"text-align: right;\">\n",
              "      <th></th>\n",
              "      <th>show_id</th>\n",
              "      <th>type</th>\n",
              "      <th>title</th>\n",
              "      <th>director</th>\n",
              "      <th>date_added</th>\n",
              "      <th>release_year</th>\n",
              "      <th>rating</th>\n",
              "      <th>duration</th>\n",
              "      <th>description</th>\n",
              "      <th>ShowType</th>\n",
              "      <th>cast</th>\n",
              "      <th>country</th>\n",
              "    </tr>\n",
              "  </thead>\n",
              "  <tbody>\n",
              "    <tr>\n",
              "      <th>0</th>\n",
              "      <td>s1</td>\n",
              "      <td>Movie</td>\n",
              "      <td>Dick Johnson Is Dead</td>\n",
              "      <td>Kirsten Johnson</td>\n",
              "      <td>September 25, 2021</td>\n",
              "      <td>2020</td>\n",
              "      <td>PG-13</td>\n",
              "      <td>90 min</td>\n",
              "      <td>As her father nears the end of his life, filmm...</td>\n",
              "      <td>Documentaries</td>\n",
              "      <td>NaN</td>\n",
              "      <td>United States</td>\n",
              "    </tr>\n",
              "    <tr>\n",
              "      <th>1</th>\n",
              "      <td>s1</td>\n",
              "      <td>Movie</td>\n",
              "      <td>Dick Johnson Is Dead</td>\n",
              "      <td>Kirsten Johnson</td>\n",
              "      <td>September 25, 2021</td>\n",
              "      <td>2020</td>\n",
              "      <td>PG-13</td>\n",
              "      <td>90 min</td>\n",
              "      <td>As her father nears the end of his life, filmm...</td>\n",
              "      <td>Documentaries</td>\n",
              "      <td>NaN</td>\n",
              "      <td>United States</td>\n",
              "    </tr>\n",
              "    <tr>\n",
              "      <th>2</th>\n",
              "      <td>s1</td>\n",
              "      <td>Movie</td>\n",
              "      <td>Dick Johnson Is Dead</td>\n",
              "      <td>Kirsten Johnson</td>\n",
              "      <td>September 25, 2021</td>\n",
              "      <td>2020</td>\n",
              "      <td>PG-13</td>\n",
              "      <td>90 min</td>\n",
              "      <td>As her father nears the end of his life, filmm...</td>\n",
              "      <td>Documentaries</td>\n",
              "      <td>NaN</td>\n",
              "      <td>United States</td>\n",
              "    </tr>\n",
              "    <tr>\n",
              "      <th>3</th>\n",
              "      <td>s1</td>\n",
              "      <td>Movie</td>\n",
              "      <td>Dick Johnson Is Dead</td>\n",
              "      <td>Kirsten Johnson</td>\n",
              "      <td>September 25, 2021</td>\n",
              "      <td>2020</td>\n",
              "      <td>PG-13</td>\n",
              "      <td>90 min</td>\n",
              "      <td>As her father nears the end of his life, filmm...</td>\n",
              "      <td>Documentaries</td>\n",
              "      <td>NaN</td>\n",
              "      <td>United States</td>\n",
              "    </tr>\n",
              "    <tr>\n",
              "      <th>4</th>\n",
              "      <td>s1</td>\n",
              "      <td>Movie</td>\n",
              "      <td>Dick Johnson Is Dead</td>\n",
              "      <td>Kirsten Johnson</td>\n",
              "      <td>September 25, 2021</td>\n",
              "      <td>2020</td>\n",
              "      <td>PG-13</td>\n",
              "      <td>90 min</td>\n",
              "      <td>As her father nears the end of his life, filmm...</td>\n",
              "      <td>Documentaries</td>\n",
              "      <td>NaN</td>\n",
              "      <td>United States</td>\n",
              "    </tr>\n",
              "  </tbody>\n",
              "</table>\n",
              "</div>\n",
              "      <button class=\"colab-df-convert\" onclick=\"convertToInteractive('df-31e04661-ec0b-44c1-b441-84dfe34979ac')\"\n",
              "              title=\"Convert this dataframe to an interactive table.\"\n",
              "              style=\"display:none;\">\n",
              "        \n",
              "  <svg xmlns=\"http://www.w3.org/2000/svg\" height=\"24px\"viewBox=\"0 0 24 24\"\n",
              "       width=\"24px\">\n",
              "    <path d=\"M0 0h24v24H0V0z\" fill=\"none\"/>\n",
              "    <path d=\"M18.56 5.44l.94 2.06.94-2.06 2.06-.94-2.06-.94-.94-2.06-.94 2.06-2.06.94zm-11 1L8.5 8.5l.94-2.06 2.06-.94-2.06-.94L8.5 2.5l-.94 2.06-2.06.94zm10 10l.94 2.06.94-2.06 2.06-.94-2.06-.94-.94-2.06-.94 2.06-2.06.94z\"/><path d=\"M17.41 7.96l-1.37-1.37c-.4-.4-.92-.59-1.43-.59-.52 0-1.04.2-1.43.59L10.3 9.45l-7.72 7.72c-.78.78-.78 2.05 0 2.83L4 21.41c.39.39.9.59 1.41.59.51 0 1.02-.2 1.41-.59l7.78-7.78 2.81-2.81c.8-.78.8-2.07 0-2.86zM5.41 20L4 18.59l7.72-7.72 1.47 1.35L5.41 20z\"/>\n",
              "  </svg>\n",
              "      </button>\n",
              "      \n",
              "  <style>\n",
              "    .colab-df-container {\n",
              "      display:flex;\n",
              "      flex-wrap:wrap;\n",
              "      gap: 12px;\n",
              "    }\n",
              "\n",
              "    .colab-df-convert {\n",
              "      background-color: #E8F0FE;\n",
              "      border: none;\n",
              "      border-radius: 50%;\n",
              "      cursor: pointer;\n",
              "      display: none;\n",
              "      fill: #1967D2;\n",
              "      height: 32px;\n",
              "      padding: 0 0 0 0;\n",
              "      width: 32px;\n",
              "    }\n",
              "\n",
              "    .colab-df-convert:hover {\n",
              "      background-color: #E2EBFA;\n",
              "      box-shadow: 0px 1px 2px rgba(60, 64, 67, 0.3), 0px 1px 3px 1px rgba(60, 64, 67, 0.15);\n",
              "      fill: #174EA6;\n",
              "    }\n",
              "\n",
              "    [theme=dark] .colab-df-convert {\n",
              "      background-color: #3B4455;\n",
              "      fill: #D2E3FC;\n",
              "    }\n",
              "\n",
              "    [theme=dark] .colab-df-convert:hover {\n",
              "      background-color: #434B5C;\n",
              "      box-shadow: 0px 1px 3px 1px rgba(0, 0, 0, 0.15);\n",
              "      filter: drop-shadow(0px 1px 2px rgba(0, 0, 0, 0.3));\n",
              "      fill: #FFFFFF;\n",
              "    }\n",
              "  </style>\n",
              "\n",
              "      <script>\n",
              "        const buttonEl =\n",
              "          document.querySelector('#df-31e04661-ec0b-44c1-b441-84dfe34979ac button.colab-df-convert');\n",
              "        buttonEl.style.display =\n",
              "          google.colab.kernel.accessAllowed ? 'block' : 'none';\n",
              "\n",
              "        async function convertToInteractive(key) {\n",
              "          const element = document.querySelector('#df-31e04661-ec0b-44c1-b441-84dfe34979ac');\n",
              "          const dataTable =\n",
              "            await google.colab.kernel.invokeFunction('convertToInteractive',\n",
              "                                                     [key], {});\n",
              "          if (!dataTable) return;\n",
              "\n",
              "          const docLinkHtml = 'Like what you see? Visit the ' +\n",
              "            '<a target=\"_blank\" href=https://colab.research.google.com/notebooks/data_table.ipynb>data table notebook</a>'\n",
              "            + ' to learn more about interactive tables.';\n",
              "          element.innerHTML = '';\n",
              "          dataTable['output_type'] = 'display_data';\n",
              "          await google.colab.output.renderOutput(dataTable, element);\n",
              "          const docLink = document.createElement('div');\n",
              "          docLink.innerHTML = docLinkHtml;\n",
              "          element.appendChild(docLink);\n",
              "        }\n",
              "      </script>\n",
              "    </div>\n",
              "  </div>\n",
              "  "
            ]
          },
          "metadata": {},
          "execution_count": 11
        }
      ]
    },
    {
      "cell_type": "markdown",
      "source": [
        "Un nested and stacked data for cast, country and showtype (listed_in field)"
      ],
      "metadata": {
        "id": "BfQXE-daucfN"
      }
    },
    {
      "cell_type": "code",
      "source": [
        "##Adding more date, year and month fields from date added(date_added field)\n",
        "final_df['date_add_convert'] = pd.to_datetime(final_df['date_added'])\n",
        "final_df['year'] = pd.DatetimeIndex(final_df['date_add_convert']).year.astype('Int64')\n",
        "final_df['month'] = pd.DatetimeIndex(final_df['date_add_convert']).month.astype('Int64')\n",
        "final_df['dayofweek'] = pd.DatetimeIndex(final_df['date_add_convert']).dayofweek.astype('Int64')\n",
        "final_df.head(2)"
      ],
      "metadata": {
        "colab": {
          "base_uri": "https://localhost:8080/",
          "height": 280
        },
        "id": "5QCwk5wilYDz",
        "outputId": "52999552-c65f-420c-90a3-e6503b926596"
      },
      "execution_count": null,
      "outputs": [
        {
          "output_type": "execute_result",
          "data": {
            "text/plain": [
              "  show_id   type                 title         director          date_added  \\\n",
              "0      s1  Movie  Dick Johnson Is Dead  Kirsten Johnson  September 25, 2021   \n",
              "1      s1  Movie  Dick Johnson Is Dead  Kirsten Johnson  September 25, 2021   \n",
              "\n",
              "   release_year rating duration  \\\n",
              "0          2020  PG-13   90 min   \n",
              "1          2020  PG-13   90 min   \n",
              "\n",
              "                                         description       ShowType cast  \\\n",
              "0  As her father nears the end of his life, filmm...  Documentaries  NaN   \n",
              "1  As her father nears the end of his life, filmm...  Documentaries  NaN   \n",
              "\n",
              "         country date_add_convert  year month dayofweek  \n",
              "0  United States       2021-09-25  2021     9         5  \n",
              "1  United States       2021-09-25  2021     9         5  "
            ],
            "text/html": [
              "\n",
              "  <div id=\"df-3138f357-2d40-43c1-9abf-815a04413a04\">\n",
              "    <div class=\"colab-df-container\">\n",
              "      <div>\n",
              "<style scoped>\n",
              "    .dataframe tbody tr th:only-of-type {\n",
              "        vertical-align: middle;\n",
              "    }\n",
              "\n",
              "    .dataframe tbody tr th {\n",
              "        vertical-align: top;\n",
              "    }\n",
              "\n",
              "    .dataframe thead th {\n",
              "        text-align: right;\n",
              "    }\n",
              "</style>\n",
              "<table border=\"1\" class=\"dataframe\">\n",
              "  <thead>\n",
              "    <tr style=\"text-align: right;\">\n",
              "      <th></th>\n",
              "      <th>show_id</th>\n",
              "      <th>type</th>\n",
              "      <th>title</th>\n",
              "      <th>director</th>\n",
              "      <th>date_added</th>\n",
              "      <th>release_year</th>\n",
              "      <th>rating</th>\n",
              "      <th>duration</th>\n",
              "      <th>description</th>\n",
              "      <th>ShowType</th>\n",
              "      <th>cast</th>\n",
              "      <th>country</th>\n",
              "      <th>date_add_convert</th>\n",
              "      <th>year</th>\n",
              "      <th>month</th>\n",
              "      <th>dayofweek</th>\n",
              "    </tr>\n",
              "  </thead>\n",
              "  <tbody>\n",
              "    <tr>\n",
              "      <th>0</th>\n",
              "      <td>s1</td>\n",
              "      <td>Movie</td>\n",
              "      <td>Dick Johnson Is Dead</td>\n",
              "      <td>Kirsten Johnson</td>\n",
              "      <td>September 25, 2021</td>\n",
              "      <td>2020</td>\n",
              "      <td>PG-13</td>\n",
              "      <td>90 min</td>\n",
              "      <td>As her father nears the end of his life, filmm...</td>\n",
              "      <td>Documentaries</td>\n",
              "      <td>NaN</td>\n",
              "      <td>United States</td>\n",
              "      <td>2021-09-25</td>\n",
              "      <td>2021</td>\n",
              "      <td>9</td>\n",
              "      <td>5</td>\n",
              "    </tr>\n",
              "    <tr>\n",
              "      <th>1</th>\n",
              "      <td>s1</td>\n",
              "      <td>Movie</td>\n",
              "      <td>Dick Johnson Is Dead</td>\n",
              "      <td>Kirsten Johnson</td>\n",
              "      <td>September 25, 2021</td>\n",
              "      <td>2020</td>\n",
              "      <td>PG-13</td>\n",
              "      <td>90 min</td>\n",
              "      <td>As her father nears the end of his life, filmm...</td>\n",
              "      <td>Documentaries</td>\n",
              "      <td>NaN</td>\n",
              "      <td>United States</td>\n",
              "      <td>2021-09-25</td>\n",
              "      <td>2021</td>\n",
              "      <td>9</td>\n",
              "      <td>5</td>\n",
              "    </tr>\n",
              "  </tbody>\n",
              "</table>\n",
              "</div>\n",
              "      <button class=\"colab-df-convert\" onclick=\"convertToInteractive('df-3138f357-2d40-43c1-9abf-815a04413a04')\"\n",
              "              title=\"Convert this dataframe to an interactive table.\"\n",
              "              style=\"display:none;\">\n",
              "        \n",
              "  <svg xmlns=\"http://www.w3.org/2000/svg\" height=\"24px\"viewBox=\"0 0 24 24\"\n",
              "       width=\"24px\">\n",
              "    <path d=\"M0 0h24v24H0V0z\" fill=\"none\"/>\n",
              "    <path d=\"M18.56 5.44l.94 2.06.94-2.06 2.06-.94-2.06-.94-.94-2.06-.94 2.06-2.06.94zm-11 1L8.5 8.5l.94-2.06 2.06-.94-2.06-.94L8.5 2.5l-.94 2.06-2.06.94zm10 10l.94 2.06.94-2.06 2.06-.94-2.06-.94-.94-2.06-.94 2.06-2.06.94z\"/><path d=\"M17.41 7.96l-1.37-1.37c-.4-.4-.92-.59-1.43-.59-.52 0-1.04.2-1.43.59L10.3 9.45l-7.72 7.72c-.78.78-.78 2.05 0 2.83L4 21.41c.39.39.9.59 1.41.59.51 0 1.02-.2 1.41-.59l7.78-7.78 2.81-2.81c.8-.78.8-2.07 0-2.86zM5.41 20L4 18.59l7.72-7.72 1.47 1.35L5.41 20z\"/>\n",
              "  </svg>\n",
              "      </button>\n",
              "      \n",
              "  <style>\n",
              "    .colab-df-container {\n",
              "      display:flex;\n",
              "      flex-wrap:wrap;\n",
              "      gap: 12px;\n",
              "    }\n",
              "\n",
              "    .colab-df-convert {\n",
              "      background-color: #E8F0FE;\n",
              "      border: none;\n",
              "      border-radius: 50%;\n",
              "      cursor: pointer;\n",
              "      display: none;\n",
              "      fill: #1967D2;\n",
              "      height: 32px;\n",
              "      padding: 0 0 0 0;\n",
              "      width: 32px;\n",
              "    }\n",
              "\n",
              "    .colab-df-convert:hover {\n",
              "      background-color: #E2EBFA;\n",
              "      box-shadow: 0px 1px 2px rgba(60, 64, 67, 0.3), 0px 1px 3px 1px rgba(60, 64, 67, 0.15);\n",
              "      fill: #174EA6;\n",
              "    }\n",
              "\n",
              "    [theme=dark] .colab-df-convert {\n",
              "      background-color: #3B4455;\n",
              "      fill: #D2E3FC;\n",
              "    }\n",
              "\n",
              "    [theme=dark] .colab-df-convert:hover {\n",
              "      background-color: #434B5C;\n",
              "      box-shadow: 0px 1px 3px 1px rgba(0, 0, 0, 0.15);\n",
              "      filter: drop-shadow(0px 1px 2px rgba(0, 0, 0, 0.3));\n",
              "      fill: #FFFFFF;\n",
              "    }\n",
              "  </style>\n",
              "\n",
              "      <script>\n",
              "        const buttonEl =\n",
              "          document.querySelector('#df-3138f357-2d40-43c1-9abf-815a04413a04 button.colab-df-convert');\n",
              "        buttonEl.style.display =\n",
              "          google.colab.kernel.accessAllowed ? 'block' : 'none';\n",
              "\n",
              "        async function convertToInteractive(key) {\n",
              "          const element = document.querySelector('#df-3138f357-2d40-43c1-9abf-815a04413a04');\n",
              "          const dataTable =\n",
              "            await google.colab.kernel.invokeFunction('convertToInteractive',\n",
              "                                                     [key], {});\n",
              "          if (!dataTable) return;\n",
              "\n",
              "          const docLinkHtml = 'Like what you see? Visit the ' +\n",
              "            '<a target=\"_blank\" href=https://colab.research.google.com/notebooks/data_table.ipynb>data table notebook</a>'\n",
              "            + ' to learn more about interactive tables.';\n",
              "          element.innerHTML = '';\n",
              "          dataTable['output_type'] = 'display_data';\n",
              "          await google.colab.output.renderOutput(dataTable, element);\n",
              "          const docLink = document.createElement('div');\n",
              "          docLink.innerHTML = docLinkHtml;\n",
              "          element.appendChild(docLink);\n",
              "        }\n",
              "      </script>\n",
              "    </div>\n",
              "  </div>\n",
              "  "
            ]
          },
          "metadata": {},
          "execution_count": 12
        }
      ]
    },
    {
      "cell_type": "code",
      "source": [
        "##Removing duplicates\n",
        "final_df=final_df.drop_duplicates()\n",
        "final_df.head(2)"
      ],
      "metadata": {
        "colab": {
          "base_uri": "https://localhost:8080/",
          "height": 280
        },
        "id": "ictLOkqjlo0_",
        "outputId": "d04e317f-3e63-4bc6-8c27-dfe18cc1d08c"
      },
      "execution_count": null,
      "outputs": [
        {
          "output_type": "execute_result",
          "data": {
            "text/plain": [
              "   show_id   type                 title         director          date_added  \\\n",
              "0       s1  Movie  Dick Johnson Is Dead  Kirsten Johnson  September 25, 2021   \n",
              "50      s1  Movie  Dick Johnson Is Dead  Kirsten Johnson  September 25, 2021   \n",
              "\n",
              "    release_year rating duration  \\\n",
              "0           2020  PG-13   90 min   \n",
              "50          2020  PG-13   90 min   \n",
              "\n",
              "                                          description       ShowType cast  \\\n",
              "0   As her father nears the end of his life, filmm...  Documentaries  NaN   \n",
              "50  As her father nears the end of his life, filmm...  Documentaries  NaN   \n",
              "\n",
              "          country date_add_convert  year month dayofweek  \n",
              "0   United States       2021-09-25  2021     9         5  \n",
              "50           None       2021-09-25  2021     9         5  "
            ],
            "text/html": [
              "\n",
              "  <div id=\"df-728de3ec-73a6-4ce2-9007-5420608ea761\">\n",
              "    <div class=\"colab-df-container\">\n",
              "      <div>\n",
              "<style scoped>\n",
              "    .dataframe tbody tr th:only-of-type {\n",
              "        vertical-align: middle;\n",
              "    }\n",
              "\n",
              "    .dataframe tbody tr th {\n",
              "        vertical-align: top;\n",
              "    }\n",
              "\n",
              "    .dataframe thead th {\n",
              "        text-align: right;\n",
              "    }\n",
              "</style>\n",
              "<table border=\"1\" class=\"dataframe\">\n",
              "  <thead>\n",
              "    <tr style=\"text-align: right;\">\n",
              "      <th></th>\n",
              "      <th>show_id</th>\n",
              "      <th>type</th>\n",
              "      <th>title</th>\n",
              "      <th>director</th>\n",
              "      <th>date_added</th>\n",
              "      <th>release_year</th>\n",
              "      <th>rating</th>\n",
              "      <th>duration</th>\n",
              "      <th>description</th>\n",
              "      <th>ShowType</th>\n",
              "      <th>cast</th>\n",
              "      <th>country</th>\n",
              "      <th>date_add_convert</th>\n",
              "      <th>year</th>\n",
              "      <th>month</th>\n",
              "      <th>dayofweek</th>\n",
              "    </tr>\n",
              "  </thead>\n",
              "  <tbody>\n",
              "    <tr>\n",
              "      <th>0</th>\n",
              "      <td>s1</td>\n",
              "      <td>Movie</td>\n",
              "      <td>Dick Johnson Is Dead</td>\n",
              "      <td>Kirsten Johnson</td>\n",
              "      <td>September 25, 2021</td>\n",
              "      <td>2020</td>\n",
              "      <td>PG-13</td>\n",
              "      <td>90 min</td>\n",
              "      <td>As her father nears the end of his life, filmm...</td>\n",
              "      <td>Documentaries</td>\n",
              "      <td>NaN</td>\n",
              "      <td>United States</td>\n",
              "      <td>2021-09-25</td>\n",
              "      <td>2021</td>\n",
              "      <td>9</td>\n",
              "      <td>5</td>\n",
              "    </tr>\n",
              "    <tr>\n",
              "      <th>50</th>\n",
              "      <td>s1</td>\n",
              "      <td>Movie</td>\n",
              "      <td>Dick Johnson Is Dead</td>\n",
              "      <td>Kirsten Johnson</td>\n",
              "      <td>September 25, 2021</td>\n",
              "      <td>2020</td>\n",
              "      <td>PG-13</td>\n",
              "      <td>90 min</td>\n",
              "      <td>As her father nears the end of his life, filmm...</td>\n",
              "      <td>Documentaries</td>\n",
              "      <td>NaN</td>\n",
              "      <td>None</td>\n",
              "      <td>2021-09-25</td>\n",
              "      <td>2021</td>\n",
              "      <td>9</td>\n",
              "      <td>5</td>\n",
              "    </tr>\n",
              "  </tbody>\n",
              "</table>\n",
              "</div>\n",
              "      <button class=\"colab-df-convert\" onclick=\"convertToInteractive('df-728de3ec-73a6-4ce2-9007-5420608ea761')\"\n",
              "              title=\"Convert this dataframe to an interactive table.\"\n",
              "              style=\"display:none;\">\n",
              "        \n",
              "  <svg xmlns=\"http://www.w3.org/2000/svg\" height=\"24px\"viewBox=\"0 0 24 24\"\n",
              "       width=\"24px\">\n",
              "    <path d=\"M0 0h24v24H0V0z\" fill=\"none\"/>\n",
              "    <path d=\"M18.56 5.44l.94 2.06.94-2.06 2.06-.94-2.06-.94-.94-2.06-.94 2.06-2.06.94zm-11 1L8.5 8.5l.94-2.06 2.06-.94-2.06-.94L8.5 2.5l-.94 2.06-2.06.94zm10 10l.94 2.06.94-2.06 2.06-.94-2.06-.94-.94-2.06-.94 2.06-2.06.94z\"/><path d=\"M17.41 7.96l-1.37-1.37c-.4-.4-.92-.59-1.43-.59-.52 0-1.04.2-1.43.59L10.3 9.45l-7.72 7.72c-.78.78-.78 2.05 0 2.83L4 21.41c.39.39.9.59 1.41.59.51 0 1.02-.2 1.41-.59l7.78-7.78 2.81-2.81c.8-.78.8-2.07 0-2.86zM5.41 20L4 18.59l7.72-7.72 1.47 1.35L5.41 20z\"/>\n",
              "  </svg>\n",
              "      </button>\n",
              "      \n",
              "  <style>\n",
              "    .colab-df-container {\n",
              "      display:flex;\n",
              "      flex-wrap:wrap;\n",
              "      gap: 12px;\n",
              "    }\n",
              "\n",
              "    .colab-df-convert {\n",
              "      background-color: #E8F0FE;\n",
              "      border: none;\n",
              "      border-radius: 50%;\n",
              "      cursor: pointer;\n",
              "      display: none;\n",
              "      fill: #1967D2;\n",
              "      height: 32px;\n",
              "      padding: 0 0 0 0;\n",
              "      width: 32px;\n",
              "    }\n",
              "\n",
              "    .colab-df-convert:hover {\n",
              "      background-color: #E2EBFA;\n",
              "      box-shadow: 0px 1px 2px rgba(60, 64, 67, 0.3), 0px 1px 3px 1px rgba(60, 64, 67, 0.15);\n",
              "      fill: #174EA6;\n",
              "    }\n",
              "\n",
              "    [theme=dark] .colab-df-convert {\n",
              "      background-color: #3B4455;\n",
              "      fill: #D2E3FC;\n",
              "    }\n",
              "\n",
              "    [theme=dark] .colab-df-convert:hover {\n",
              "      background-color: #434B5C;\n",
              "      box-shadow: 0px 1px 3px 1px rgba(0, 0, 0, 0.15);\n",
              "      filter: drop-shadow(0px 1px 2px rgba(0, 0, 0, 0.3));\n",
              "      fill: #FFFFFF;\n",
              "    }\n",
              "  </style>\n",
              "\n",
              "      <script>\n",
              "        const buttonEl =\n",
              "          document.querySelector('#df-728de3ec-73a6-4ce2-9007-5420608ea761 button.colab-df-convert');\n",
              "        buttonEl.style.display =\n",
              "          google.colab.kernel.accessAllowed ? 'block' : 'none';\n",
              "\n",
              "        async function convertToInteractive(key) {\n",
              "          const element = document.querySelector('#df-728de3ec-73a6-4ce2-9007-5420608ea761');\n",
              "          const dataTable =\n",
              "            await google.colab.kernel.invokeFunction('convertToInteractive',\n",
              "                                                     [key], {});\n",
              "          if (!dataTable) return;\n",
              "\n",
              "          const docLinkHtml = 'Like what you see? Visit the ' +\n",
              "            '<a target=\"_blank\" href=https://colab.research.google.com/notebooks/data_table.ipynb>data table notebook</a>'\n",
              "            + ' to learn more about interactive tables.';\n",
              "          element.innerHTML = '';\n",
              "          dataTable['output_type'] = 'display_data';\n",
              "          await google.colab.output.renderOutput(dataTable, element);\n",
              "          const docLink = document.createElement('div');\n",
              "          docLink.innerHTML = docLinkHtml;\n",
              "          element.appendChild(docLink);\n",
              "        }\n",
              "      </script>\n",
              "    </div>\n",
              "  </div>\n",
              "  "
            ]
          },
          "metadata": {},
          "execution_count": 13
        }
      ]
    },
    {
      "cell_type": "markdown",
      "source": [
        "###4. Non-Graphical Analysis: Value counts and unique attributes"
      ],
      "metadata": {
        "id": "jlIcYPFGGSrP"
      }
    },
    {
      "cell_type": "markdown",
      "source": [
        "Assumption = Given is the total data from the company, there is no data prior or after the time period of the shared data"
      ],
      "metadata": {
        "id": "5GjcRCN4t8Yc"
      }
    },
    {
      "cell_type": "code",
      "source": [
        "df['type'].value_counts(dropna=False) ##Frequency of each value \"Type\" column including null values"
      ],
      "metadata": {
        "colab": {
          "base_uri": "https://localhost:8080/"
        },
        "id": "d9p7D-hJj50x",
        "outputId": "f4525406-f42b-40f6-a3f1-b325116702d7"
      },
      "execution_count": null,
      "outputs": [
        {
          "output_type": "execute_result",
          "data": {
            "text/plain": [
              "Movie      6131\n",
              "TV Show    2676\n",
              "Name: type, dtype: int64"
            ]
          },
          "metadata": {},
          "execution_count": 14
        }
      ]
    },
    {
      "cell_type": "markdown",
      "source": [
        "There are total 6131 movies and 2676 TV shows made by the company in the total time period of shared data"
      ],
      "metadata": {
        "id": "65KuXWrJut7R"
      }
    },
    {
      "cell_type": "code",
      "source": [
        "#final_df['cast'].describe()\n",
        "final_df['cast'].value_counts(dropna=False)"
      ],
      "metadata": {
        "colab": {
          "base_uri": "https://localhost:8080/"
        },
        "id": "1v35yZCDl8bD",
        "outputId": "6a7200f2-73cc-4487-e824-1009caff8c76"
      },
      "execution_count": null,
      "outputs": [
        {
          "output_type": "execute_result",
          "data": {
            "text/plain": [
              "NaN                 41343\n",
              "Anupam Kher           247\n",
              "Shah Rukh Khan        206\n",
              "Naseeruddin Shah      186\n",
              "Akshay Kumar          173\n",
              "                    ...  \n",
              "Drew Davis              1\n",
              "Matt McCooey            1\n",
              "Joe Swash               1\n",
              "Siu-See Hung            1\n",
              "Tom Wyner               1\n",
              "Name: cast, Length: 36440, dtype: int64"
            ]
          },
          "metadata": {},
          "execution_count": 15
        }
      ]
    },
    {
      "cell_type": "markdown",
      "source": [
        "There are total 36439 (+1 NaN) unique cast in all the shows."
      ],
      "metadata": {
        "id": "xqtbQHz1w0H6"
      }
    },
    {
      "cell_type": "code",
      "source": [
        "final_df['ShowType'].describe(include=object)"
      ],
      "metadata": {
        "colab": {
          "base_uri": "https://localhost:8080/"
        },
        "id": "9JWVBSr2mBzi",
        "outputId": "045f92a7-6cc5-4379-d554-81e2f42ef8ce"
      },
      "execution_count": null,
      "outputs": [
        {
          "output_type": "execute_result",
          "data": {
            "text/plain": [
              "count     362974\n",
              "unique        42\n",
              "top       Dramas\n",
              "freq       53121\n",
              "Name: ShowType, dtype: object"
            ]
          },
          "metadata": {},
          "execution_count": 16
        }
      ]
    },
    {
      "cell_type": "markdown",
      "source": [
        "There are total 42 unique show types."
      ],
      "metadata": {
        "id": "Hs9tEZlKxhEW"
      }
    },
    {
      "cell_type": "code",
      "source": [
        "final_df['country'].value_counts(dropna=False)"
      ],
      "metadata": {
        "colab": {
          "base_uri": "https://localhost:8080/"
        },
        "id": "nKSs0bUMmCdH",
        "outputId": "d1a4b716-14cb-444e-e046-886399d0bbd9"
      },
      "execution_count": null,
      "outputs": [
        {
          "output_type": "execute_result",
          "data": {
            "text/plain": [
              "NaN               167321\n",
              "United States      60383\n",
              "India              23870\n",
              "United Kingdom     13973\n",
              "Japan               8655\n",
              "                   ...  \n",
              "Samoa                  2\n",
              "Botswana               1\n",
              "Uganda                 1\n",
              "United States,         1\n",
              "Kazakhstan             1\n",
              "Name: country, Length: 128, dtype: int64"
            ]
          },
          "metadata": {},
          "execution_count": 17
        }
      ]
    },
    {
      "cell_type": "markdown",
      "source": [
        "There are total 127 (+1 NaN) unique countries where shows are released by the company."
      ],
      "metadata": {
        "id": "DOnVm0hfx-9L"
      }
    },
    {
      "cell_type": "code",
      "source": [
        "df['show_id'].describe(include=object) ##unique=8807, total=8807 ##Raw data"
      ],
      "metadata": {
        "colab": {
          "base_uri": "https://localhost:8080/"
        },
        "id": "HwAtTHstmGm-",
        "outputId": "87504cc1-3e83-457f-904c-7719a35eeff6"
      },
      "execution_count": null,
      "outputs": [
        {
          "output_type": "execute_result",
          "data": {
            "text/plain": [
              "count     8807\n",
              "unique    8807\n",
              "top         s1\n",
              "freq         1\n",
              "Name: show_id, dtype: object"
            ]
          },
          "metadata": {},
          "execution_count": 18
        }
      ]
    },
    {
      "cell_type": "code",
      "source": [
        "final_df['show_id'].describe(include=object) ##unique=8807, total=362974 ##Unnested data"
      ],
      "metadata": {
        "colab": {
          "base_uri": "https://localhost:8080/"
        },
        "id": "jxEVz0u8mFvq",
        "outputId": "88c4e5ae-6853-4bbc-9e23-45b2826b3ae4"
      },
      "execution_count": null,
      "outputs": [
        {
          "output_type": "execute_result",
          "data": {
            "text/plain": [
              "count     362974\n",
              "unique      8807\n",
              "top        s5306\n",
              "freq         516\n",
              "Name: show_id, dtype: object"
            ]
          },
          "metadata": {},
          "execution_count": 19
        }
      ]
    },
    {
      "cell_type": "markdown",
      "source": [
        "#####General Analysis for one scenario"
      ],
      "metadata": {
        "id": "v9FwYa8wyT_D"
      }
    },
    {
      "cell_type": "code",
      "source": [
        "temp=final_df[['show_id','country','year']]\n",
        "temp=temp.drop_duplicates()\n",
        "\n",
        "df_agg = temp.groupby(\"country\")[[\"year\", \"show_id\"]].aggregate({\"year\": [\"min\", \"max\"], \"show_id\":\"count\"})"
      ],
      "metadata": {
        "id": "5OPww7F4mPEX"
      },
      "execution_count": null,
      "outputs": []
    },
    {
      "cell_type": "code",
      "source": [
        "df_agg.columns = [\"_\".join(col) for col in df_agg.columns]\n",
        "df_agg.reset_index(inplace=True)"
      ],
      "metadata": {
        "id": "iU0lzfJ6mP2i"
      },
      "execution_count": null,
      "outputs": []
    },
    {
      "cell_type": "code",
      "source": [
        "df_agg[\"Serviceyrs\"] = df_agg[\"year_max\"] - df_agg[\"year_min\"]+1\n",
        "df_agg.drop_duplicates()"
      ],
      "metadata": {
        "colab": {
          "base_uri": "https://localhost:8080/",
          "height": 424
        },
        "id": "HIkQMvCkmSHI",
        "outputId": "d25e54f0-fb48-46c2-dd38-0c707d2f5b76"
      },
      "execution_count": null,
      "outputs": [
        {
          "output_type": "execute_result",
          "data": {
            "text/plain": [
              "          country  year_min  year_max  show_id_count  Serviceyrs\n",
              "0                      2021      2021              2           1\n",
              "1     Afghanistan      2017      2017              1           1\n",
              "2         Albania      2018      2018              1           1\n",
              "3         Algeria      2020      2021              3           2\n",
              "4          Angola      2020      2020              1           1\n",
              "..            ...       ...       ...            ...         ...\n",
              "122  Vatican City      2019      2019              1           1\n",
              "123     Venezuela      2017      2021              4           5\n",
              "124       Vietnam      2017      2021              7           5\n",
              "125  West Germany      2017      2020              5           4\n",
              "126      Zimbabwe      2016      2020              3           5\n",
              "\n",
              "[127 rows x 5 columns]"
            ],
            "text/html": [
              "\n",
              "  <div id=\"df-dcfe3699-0596-4904-83a9-7c4ca34cc616\">\n",
              "    <div class=\"colab-df-container\">\n",
              "      <div>\n",
              "<style scoped>\n",
              "    .dataframe tbody tr th:only-of-type {\n",
              "        vertical-align: middle;\n",
              "    }\n",
              "\n",
              "    .dataframe tbody tr th {\n",
              "        vertical-align: top;\n",
              "    }\n",
              "\n",
              "    .dataframe thead th {\n",
              "        text-align: right;\n",
              "    }\n",
              "</style>\n",
              "<table border=\"1\" class=\"dataframe\">\n",
              "  <thead>\n",
              "    <tr style=\"text-align: right;\">\n",
              "      <th></th>\n",
              "      <th>country</th>\n",
              "      <th>year_min</th>\n",
              "      <th>year_max</th>\n",
              "      <th>show_id_count</th>\n",
              "      <th>Serviceyrs</th>\n",
              "    </tr>\n",
              "  </thead>\n",
              "  <tbody>\n",
              "    <tr>\n",
              "      <th>0</th>\n",
              "      <td></td>\n",
              "      <td>2021</td>\n",
              "      <td>2021</td>\n",
              "      <td>2</td>\n",
              "      <td>1</td>\n",
              "    </tr>\n",
              "    <tr>\n",
              "      <th>1</th>\n",
              "      <td>Afghanistan</td>\n",
              "      <td>2017</td>\n",
              "      <td>2017</td>\n",
              "      <td>1</td>\n",
              "      <td>1</td>\n",
              "    </tr>\n",
              "    <tr>\n",
              "      <th>2</th>\n",
              "      <td>Albania</td>\n",
              "      <td>2018</td>\n",
              "      <td>2018</td>\n",
              "      <td>1</td>\n",
              "      <td>1</td>\n",
              "    </tr>\n",
              "    <tr>\n",
              "      <th>3</th>\n",
              "      <td>Algeria</td>\n",
              "      <td>2020</td>\n",
              "      <td>2021</td>\n",
              "      <td>3</td>\n",
              "      <td>2</td>\n",
              "    </tr>\n",
              "    <tr>\n",
              "      <th>4</th>\n",
              "      <td>Angola</td>\n",
              "      <td>2020</td>\n",
              "      <td>2020</td>\n",
              "      <td>1</td>\n",
              "      <td>1</td>\n",
              "    </tr>\n",
              "    <tr>\n",
              "      <th>...</th>\n",
              "      <td>...</td>\n",
              "      <td>...</td>\n",
              "      <td>...</td>\n",
              "      <td>...</td>\n",
              "      <td>...</td>\n",
              "    </tr>\n",
              "    <tr>\n",
              "      <th>122</th>\n",
              "      <td>Vatican City</td>\n",
              "      <td>2019</td>\n",
              "      <td>2019</td>\n",
              "      <td>1</td>\n",
              "      <td>1</td>\n",
              "    </tr>\n",
              "    <tr>\n",
              "      <th>123</th>\n",
              "      <td>Venezuela</td>\n",
              "      <td>2017</td>\n",
              "      <td>2021</td>\n",
              "      <td>4</td>\n",
              "      <td>5</td>\n",
              "    </tr>\n",
              "    <tr>\n",
              "      <th>124</th>\n",
              "      <td>Vietnam</td>\n",
              "      <td>2017</td>\n",
              "      <td>2021</td>\n",
              "      <td>7</td>\n",
              "      <td>5</td>\n",
              "    </tr>\n",
              "    <tr>\n",
              "      <th>125</th>\n",
              "      <td>West Germany</td>\n",
              "      <td>2017</td>\n",
              "      <td>2020</td>\n",
              "      <td>5</td>\n",
              "      <td>4</td>\n",
              "    </tr>\n",
              "    <tr>\n",
              "      <th>126</th>\n",
              "      <td>Zimbabwe</td>\n",
              "      <td>2016</td>\n",
              "      <td>2020</td>\n",
              "      <td>3</td>\n",
              "      <td>5</td>\n",
              "    </tr>\n",
              "  </tbody>\n",
              "</table>\n",
              "<p>127 rows × 5 columns</p>\n",
              "</div>\n",
              "      <button class=\"colab-df-convert\" onclick=\"convertToInteractive('df-dcfe3699-0596-4904-83a9-7c4ca34cc616')\"\n",
              "              title=\"Convert this dataframe to an interactive table.\"\n",
              "              style=\"display:none;\">\n",
              "        \n",
              "  <svg xmlns=\"http://www.w3.org/2000/svg\" height=\"24px\"viewBox=\"0 0 24 24\"\n",
              "       width=\"24px\">\n",
              "    <path d=\"M0 0h24v24H0V0z\" fill=\"none\"/>\n",
              "    <path d=\"M18.56 5.44l.94 2.06.94-2.06 2.06-.94-2.06-.94-.94-2.06-.94 2.06-2.06.94zm-11 1L8.5 8.5l.94-2.06 2.06-.94-2.06-.94L8.5 2.5l-.94 2.06-2.06.94zm10 10l.94 2.06.94-2.06 2.06-.94-2.06-.94-.94-2.06-.94 2.06-2.06.94z\"/><path d=\"M17.41 7.96l-1.37-1.37c-.4-.4-.92-.59-1.43-.59-.52 0-1.04.2-1.43.59L10.3 9.45l-7.72 7.72c-.78.78-.78 2.05 0 2.83L4 21.41c.39.39.9.59 1.41.59.51 0 1.02-.2 1.41-.59l7.78-7.78 2.81-2.81c.8-.78.8-2.07 0-2.86zM5.41 20L4 18.59l7.72-7.72 1.47 1.35L5.41 20z\"/>\n",
              "  </svg>\n",
              "      </button>\n",
              "      \n",
              "  <style>\n",
              "    .colab-df-container {\n",
              "      display:flex;\n",
              "      flex-wrap:wrap;\n",
              "      gap: 12px;\n",
              "    }\n",
              "\n",
              "    .colab-df-convert {\n",
              "      background-color: #E8F0FE;\n",
              "      border: none;\n",
              "      border-radius: 50%;\n",
              "      cursor: pointer;\n",
              "      display: none;\n",
              "      fill: #1967D2;\n",
              "      height: 32px;\n",
              "      padding: 0 0 0 0;\n",
              "      width: 32px;\n",
              "    }\n",
              "\n",
              "    .colab-df-convert:hover {\n",
              "      background-color: #E2EBFA;\n",
              "      box-shadow: 0px 1px 2px rgba(60, 64, 67, 0.3), 0px 1px 3px 1px rgba(60, 64, 67, 0.15);\n",
              "      fill: #174EA6;\n",
              "    }\n",
              "\n",
              "    [theme=dark] .colab-df-convert {\n",
              "      background-color: #3B4455;\n",
              "      fill: #D2E3FC;\n",
              "    }\n",
              "\n",
              "    [theme=dark] .colab-df-convert:hover {\n",
              "      background-color: #434B5C;\n",
              "      box-shadow: 0px 1px 3px 1px rgba(0, 0, 0, 0.15);\n",
              "      filter: drop-shadow(0px 1px 2px rgba(0, 0, 0, 0.3));\n",
              "      fill: #FFFFFF;\n",
              "    }\n",
              "  </style>\n",
              "\n",
              "      <script>\n",
              "        const buttonEl =\n",
              "          document.querySelector('#df-dcfe3699-0596-4904-83a9-7c4ca34cc616 button.colab-df-convert');\n",
              "        buttonEl.style.display =\n",
              "          google.colab.kernel.accessAllowed ? 'block' : 'none';\n",
              "\n",
              "        async function convertToInteractive(key) {\n",
              "          const element = document.querySelector('#df-dcfe3699-0596-4904-83a9-7c4ca34cc616');\n",
              "          const dataTable =\n",
              "            await google.colab.kernel.invokeFunction('convertToInteractive',\n",
              "                                                     [key], {});\n",
              "          if (!dataTable) return;\n",
              "\n",
              "          const docLinkHtml = 'Like what you see? Visit the ' +\n",
              "            '<a target=\"_blank\" href=https://colab.research.google.com/notebooks/data_table.ipynb>data table notebook</a>'\n",
              "            + ' to learn more about interactive tables.';\n",
              "          element.innerHTML = '';\n",
              "          dataTable['output_type'] = 'display_data';\n",
              "          await google.colab.output.renderOutput(dataTable, element);\n",
              "          const docLink = document.createElement('div');\n",
              "          docLink.innerHTML = docLinkHtml;\n",
              "          element.appendChild(docLink);\n",
              "        }\n",
              "      </script>\n",
              "    </div>\n",
              "  </div>\n",
              "  "
            ]
          },
          "metadata": {},
          "execution_count": 22
        }
      ]
    },
    {
      "cell_type": "code",
      "source": [
        "df_agg[\"movie_per_yr\"] = df_agg[\"show_id_count\"] / df_agg[\"Serviceyrs\"]\n",
        "df_agg.sort_values(\"movie_per_yr\", ascending=False).head(5) ##Taking top 5 rows"
      ],
      "metadata": {
        "colab": {
          "base_uri": "https://localhost:8080/",
          "height": 206
        },
        "id": "VDC6LylLmUV5",
        "outputId": "09435d49-ffc9-4b73-9440-32509301a720"
      },
      "execution_count": null,
      "outputs": [
        {
          "output_type": "execute_result",
          "data": {
            "text/plain": [
              "            country  year_min  year_max  show_id_count  Serviceyrs  \\\n",
              "119   United States      2008      2021           3689          14   \n",
              "47            India      2016      2021           1046           6   \n",
              "117  United Kingdom      2011      2021            804          11   \n",
              "22           Canada      2013      2021            445           9   \n",
              "55            Japan      2015      2021            318           7   \n",
              "\n",
              "     movie_per_yr  \n",
              "119    263.500000  \n",
              "47     174.333333  \n",
              "117     73.090909  \n",
              "22      49.444444  \n",
              "55      45.428571  "
            ],
            "text/html": [
              "\n",
              "  <div id=\"df-57bad1d1-d1c7-4891-9357-328d9665c7fc\">\n",
              "    <div class=\"colab-df-container\">\n",
              "      <div>\n",
              "<style scoped>\n",
              "    .dataframe tbody tr th:only-of-type {\n",
              "        vertical-align: middle;\n",
              "    }\n",
              "\n",
              "    .dataframe tbody tr th {\n",
              "        vertical-align: top;\n",
              "    }\n",
              "\n",
              "    .dataframe thead th {\n",
              "        text-align: right;\n",
              "    }\n",
              "</style>\n",
              "<table border=\"1\" class=\"dataframe\">\n",
              "  <thead>\n",
              "    <tr style=\"text-align: right;\">\n",
              "      <th></th>\n",
              "      <th>country</th>\n",
              "      <th>year_min</th>\n",
              "      <th>year_max</th>\n",
              "      <th>show_id_count</th>\n",
              "      <th>Serviceyrs</th>\n",
              "      <th>movie_per_yr</th>\n",
              "    </tr>\n",
              "  </thead>\n",
              "  <tbody>\n",
              "    <tr>\n",
              "      <th>119</th>\n",
              "      <td>United States</td>\n",
              "      <td>2008</td>\n",
              "      <td>2021</td>\n",
              "      <td>3689</td>\n",
              "      <td>14</td>\n",
              "      <td>263.500000</td>\n",
              "    </tr>\n",
              "    <tr>\n",
              "      <th>47</th>\n",
              "      <td>India</td>\n",
              "      <td>2016</td>\n",
              "      <td>2021</td>\n",
              "      <td>1046</td>\n",
              "      <td>6</td>\n",
              "      <td>174.333333</td>\n",
              "    </tr>\n",
              "    <tr>\n",
              "      <th>117</th>\n",
              "      <td>United Kingdom</td>\n",
              "      <td>2011</td>\n",
              "      <td>2021</td>\n",
              "      <td>804</td>\n",
              "      <td>11</td>\n",
              "      <td>73.090909</td>\n",
              "    </tr>\n",
              "    <tr>\n",
              "      <th>22</th>\n",
              "      <td>Canada</td>\n",
              "      <td>2013</td>\n",
              "      <td>2021</td>\n",
              "      <td>445</td>\n",
              "      <td>9</td>\n",
              "      <td>49.444444</td>\n",
              "    </tr>\n",
              "    <tr>\n",
              "      <th>55</th>\n",
              "      <td>Japan</td>\n",
              "      <td>2015</td>\n",
              "      <td>2021</td>\n",
              "      <td>318</td>\n",
              "      <td>7</td>\n",
              "      <td>45.428571</td>\n",
              "    </tr>\n",
              "  </tbody>\n",
              "</table>\n",
              "</div>\n",
              "      <button class=\"colab-df-convert\" onclick=\"convertToInteractive('df-57bad1d1-d1c7-4891-9357-328d9665c7fc')\"\n",
              "              title=\"Convert this dataframe to an interactive table.\"\n",
              "              style=\"display:none;\">\n",
              "        \n",
              "  <svg xmlns=\"http://www.w3.org/2000/svg\" height=\"24px\"viewBox=\"0 0 24 24\"\n",
              "       width=\"24px\">\n",
              "    <path d=\"M0 0h24v24H0V0z\" fill=\"none\"/>\n",
              "    <path d=\"M18.56 5.44l.94 2.06.94-2.06 2.06-.94-2.06-.94-.94-2.06-.94 2.06-2.06.94zm-11 1L8.5 8.5l.94-2.06 2.06-.94-2.06-.94L8.5 2.5l-.94 2.06-2.06.94zm10 10l.94 2.06.94-2.06 2.06-.94-2.06-.94-.94-2.06-.94 2.06-2.06.94z\"/><path d=\"M17.41 7.96l-1.37-1.37c-.4-.4-.92-.59-1.43-.59-.52 0-1.04.2-1.43.59L10.3 9.45l-7.72 7.72c-.78.78-.78 2.05 0 2.83L4 21.41c.39.39.9.59 1.41.59.51 0 1.02-.2 1.41-.59l7.78-7.78 2.81-2.81c.8-.78.8-2.07 0-2.86zM5.41 20L4 18.59l7.72-7.72 1.47 1.35L5.41 20z\"/>\n",
              "  </svg>\n",
              "      </button>\n",
              "      \n",
              "  <style>\n",
              "    .colab-df-container {\n",
              "      display:flex;\n",
              "      flex-wrap:wrap;\n",
              "      gap: 12px;\n",
              "    }\n",
              "\n",
              "    .colab-df-convert {\n",
              "      background-color: #E8F0FE;\n",
              "      border: none;\n",
              "      border-radius: 50%;\n",
              "      cursor: pointer;\n",
              "      display: none;\n",
              "      fill: #1967D2;\n",
              "      height: 32px;\n",
              "      padding: 0 0 0 0;\n",
              "      width: 32px;\n",
              "    }\n",
              "\n",
              "    .colab-df-convert:hover {\n",
              "      background-color: #E2EBFA;\n",
              "      box-shadow: 0px 1px 2px rgba(60, 64, 67, 0.3), 0px 1px 3px 1px rgba(60, 64, 67, 0.15);\n",
              "      fill: #174EA6;\n",
              "    }\n",
              "\n",
              "    [theme=dark] .colab-df-convert {\n",
              "      background-color: #3B4455;\n",
              "      fill: #D2E3FC;\n",
              "    }\n",
              "\n",
              "    [theme=dark] .colab-df-convert:hover {\n",
              "      background-color: #434B5C;\n",
              "      box-shadow: 0px 1px 3px 1px rgba(0, 0, 0, 0.15);\n",
              "      filter: drop-shadow(0px 1px 2px rgba(0, 0, 0, 0.3));\n",
              "      fill: #FFFFFF;\n",
              "    }\n",
              "  </style>\n",
              "\n",
              "      <script>\n",
              "        const buttonEl =\n",
              "          document.querySelector('#df-57bad1d1-d1c7-4891-9357-328d9665c7fc button.colab-df-convert');\n",
              "        buttonEl.style.display =\n",
              "          google.colab.kernel.accessAllowed ? 'block' : 'none';\n",
              "\n",
              "        async function convertToInteractive(key) {\n",
              "          const element = document.querySelector('#df-57bad1d1-d1c7-4891-9357-328d9665c7fc');\n",
              "          const dataTable =\n",
              "            await google.colab.kernel.invokeFunction('convertToInteractive',\n",
              "                                                     [key], {});\n",
              "          if (!dataTable) return;\n",
              "\n",
              "          const docLinkHtml = 'Like what you see? Visit the ' +\n",
              "            '<a target=\"_blank\" href=https://colab.research.google.com/notebooks/data_table.ipynb>data table notebook</a>'\n",
              "            + ' to learn more about interactive tables.';\n",
              "          element.innerHTML = '';\n",
              "          dataTable['output_type'] = 'display_data';\n",
              "          await google.colab.output.renderOutput(dataTable, element);\n",
              "          const docLink = document.createElement('div');\n",
              "          docLink.innerHTML = docLinkHtml;\n",
              "          element.appendChild(docLink);\n",
              "        }\n",
              "      </script>\n",
              "    </div>\n",
              "  </div>\n",
              "  "
            ]
          },
          "metadata": {},
          "execution_count": 23
        }
      ]
    },
    {
      "cell_type": "markdown",
      "source": [
        "Above tells that the company has released -\n",
        "1. Total 3689 shows in United States with movie_per_year=263.5 during 2008 to 2021\n",
        "2. Total 1046 shows in India with movie_per_year=174.33 during 2016 to 2021\n",
        "3. Total 804 shows in United Kingdom with movie_per_year=73.09 during 2011 to 2021\n",
        "\n",
        "It can be observed that the company releases the shows in United States, India and United Kingdom with movie per year rate of more than 50."
      ],
      "metadata": {
        "id": "xxdsRxN8yeUt"
      }
    },
    {
      "cell_type": "markdown",
      "source": [
        "###5. Visual Analysis - Univariate, Bivariate after pre-processing of the data"
      ],
      "metadata": {
        "id": "nfbLIi08HbQl"
      }
    },
    {
      "cell_type": "markdown",
      "source": [
        "####Univariate Analysis - One Variable analysis"
      ],
      "metadata": {
        "id": "4D4u4Mf7HrWE"
      }
    },
    {
      "cell_type": "markdown",
      "source": [
        "#####Q1. No of Movies released per year (General analysis) through a histogram plot"
      ],
      "metadata": {
        "id": "g62uiy1yziR8"
      }
    },
    {
      "cell_type": "code",
      "source": [
        "##Q1. No of Movies released per (General) ##Histogram\n",
        "\n",
        "temp=final_df[['show_id', 'year']]\n",
        "temp=temp.drop_duplicates()\n",
        "sns.histplot(x=\"year\", data=temp)\n",
        "plt.xticks(rotation = 90)\n",
        "plt.show()"
      ],
      "metadata": {
        "id": "1expnhbtHlIo",
        "colab": {
          "base_uri": "https://localhost:8080/",
          "height": 295
        },
        "outputId": "90556773-f955-4d67-c9cc-764c960653ea"
      },
      "execution_count": null,
      "outputs": [
        {
          "output_type": "display_data",
          "data": {
            "text/plain": [
              "<Figure size 432x288 with 1 Axes>"
            ],
            "image/png": "[encoded data removed]"
          },
          "metadata": {
            "needs_background": "light"
          }
        }
      ]
    },
    {
      "cell_type": "markdown",
      "source": [
        "It can be observed that the company is releasing more shows from 2014-15 as compared to earlier years"
      ],
      "metadata": {
        "id": "XI9U5NzDz_jp"
      }
    },
    {
      "cell_type": "markdown",
      "source": [
        "#####Analysis of Viewer rating for the shows through countplot"
      ],
      "metadata": {
        "id": "KJu_cTQy0MOx"
      }
    },
    {
      "cell_type": "code",
      "source": [
        "##Countplot\n",
        "\n",
        "temp=final_df[['show_id', 'rating']]\n",
        "temp=temp.drop_duplicates()\n",
        "sns.countplot(data = temp , x = 'rating');\n",
        "plt.xticks(rotation = 90);\n",
        "plt.show()"
      ],
      "metadata": {
        "colab": {
          "base_uri": "https://localhost:8080/",
          "height": 313
        },
        "id": "HxUyxMKUphsi",
        "outputId": "66889b5c-9238-40a0-bb56-2f9232d2d800"
      },
      "execution_count": null,
      "outputs": [
        {
          "output_type": "display_data",
          "data": {
            "text/plain": [
              "<Figure size 432x288 with 1 Axes>"
            ],
            "image/png": "[encoded data removed]"
          },
          "metadata": {
            "needs_background": "light"
          }
        }
      ]
    },
    {
      "cell_type": "markdown",
      "source": [
        "It can be observed that the company releases more 'TV-MA' and 'TV-14' rated shows as compared to other ratings.\n",
        "It can also be observed that data=74 min, 84 min and 66 min are outliers in this data and doesn't belongs to the category of Viewer-rating"
      ],
      "metadata": {
        "id": "PQcUmPPr0XWQ"
      }
    },
    {
      "cell_type": "markdown",
      "source": [
        "#####Q2. Comparison of Movies and Shows through a countplot"
      ],
      "metadata": {
        "id": "1G6sSWcc01-I"
      }
    },
    {
      "cell_type": "code",
      "source": [
        "##Q2. Comparison of Movies and Shows\n",
        "Typeperyear=final_df[['show_id', 'type']]\n",
        "Typeperyear=Typeperyear.drop_duplicates()\n",
        "\n",
        "sns.countplot(x=\"type\", data=Typeperyear)\n",
        "plt.show()"
      ],
      "metadata": {
        "colab": {
          "base_uri": "https://localhost:8080/",
          "height": 279
        },
        "id": "Ec7MFh06p0IV",
        "outputId": "292b1d7e-94a1-41f1-a040-83280e07db93"
      },
      "execution_count": null,
      "outputs": [
        {
          "output_type": "display_data",
          "data": {
            "text/plain": [
              "<Figure size 432x288 with 1 Axes>"
            ],
            "image/png": "[encoded data removed]"
          },
          "metadata": {
            "needs_background": "light"
          }
        }
      ]
    },
    {
      "cell_type": "markdown",
      "source": [
        "It can be observed that the company releases more movies than it releases TV shows."
      ],
      "metadata": {
        "id": "VGneYqqj09sa"
      }
    },
    {
      "cell_type": "markdown",
      "source": [
        "####Bivariate Analysis/Multi-variate analysis"
      ],
      "metadata": {
        "id": "9gC42Yr-p8Mb"
      }
    },
    {
      "cell_type": "markdown",
      "source": [
        "######Q1. No of Movies released per year (Type wise) / Q5. Does Netflix has more focus on TV Shows than movies in recent year"
      ],
      "metadata": {
        "id": "3SM7lXbE5_p2"
      }
    },
    {
      "cell_type": "code",
      "source": [
        "##Q1. No of Movies released per year (Type wise)/Q5. Does Netflix has more focus on TV Shows than movies in recent years\n",
        "\n",
        "temp=final_df[['year','type','ShowType','show_id']]\n",
        "temp=temp.drop_duplicates()\n",
        "\n",
        "ShowPerYear=temp.groupby(by=['type','year'])['ShowType'].count().to_frame()\n",
        "ShowPerYear.columns = ['count']\n",
        "ShowPerYear = ShowPerYear.sort_values(by=['count','year'] ,  ascending = False).head(25).reset_index() #Taken Top 25 values\n",
        "\n",
        "\n",
        "plt.figure(figsize = [15,5])\n",
        "sns.barplot(x='year', y='count', hue='type', data=ShowPerYear)\n",
        "plt.legend( loc=\"upper left\",ncol=1)\n",
        "plt.show()"
      ],
      "metadata": {
        "colab": {
          "base_uri": "https://localhost:8080/",
          "height": 334
        },
        "id": "o6aVF5PFp41i",
        "outputId": "650fd911-876a-493d-e8a6-3ac4e7a61078"
      },
      "execution_count": null,
      "outputs": [
        {
          "output_type": "display_data",
          "data": {
            "text/plain": [
              "<Figure size 1080x360 with 1 Axes>"
            ],
            "image/png": "[encoded data removed]"
          },
          "metadata": {
            "needs_background": "light"
          }
        }
      ]
    },
    {
      "cell_type": "markdown",
      "source": [
        "Above plot shows the distribution of movies and shows between 2008 and 2021 and below can be observed:\n",
        "1. Company focuses more on Movies than TV shows in recent years\n",
        "2. Company has released most no of Movies and TV shows in 2019\n",
        "3. Company has released **almost** equal no of Movies and TV shows in 2016"
      ],
      "metadata": {
        "id": "5at2oqN16Lr8"
      }
    },
    {
      "cell_type": "markdown",
      "source": [
        "######Show-type analysis over the years"
      ],
      "metadata": {
        "id": "lquW1Bxt6-Zx"
      }
    },
    {
      "cell_type": "code",
      "source": [
        "temp=final_df[['year','ShowType','show_id']]\n",
        "temp=temp.drop_duplicates()\n",
        "\n",
        "ShowOverYear=temp.groupby(by=['year','ShowType'])['show_id'].count().to_frame()#.sort_values(by=['count','year'] ,  ascending = False)\n",
        "ShowOverYear.columns = ['count']\n",
        "ShowOverYear = ShowOverYear.sort_values(by=['count','year','ShowType'] ,  ascending = False).head(25).reset_index()\n",
        "\n",
        "plt.figure(figsize = [15,8])\n",
        "sns.barplot(x='year', y='count', hue='ShowType', data=ShowOverYear, estimator=np.mean)\n",
        "plt.xticks(rotation = 90)\n",
        "plt.legend( loc=\"upper right\",ncol=2)\n",
        "plt.show()"
      ],
      "metadata": {
        "colab": {
          "base_uri": "https://localhost:8080/",
          "height": 515
        },
        "id": "i2FMZiNcqC_H",
        "outputId": "d831af44-5c5b-45cb-a84a-75a4ed1e33ef"
      },
      "execution_count": null,
      "outputs": [
        {
          "output_type": "display_data",
          "data": {
            "text/plain": [
              "<Figure size 1080x576 with 1 Axes>"
            ],
            "image/png": "[encoded data removed]"
          },
          "metadata": {
            "needs_background": "light"
          }
        }
      ]
    },
    {
      "cell_type": "markdown",
      "source": [
        "Below can be observed for the above plot:\n",
        "1. Company is focusing more on **International Movies, Dramas, Comedies and International TV Shows** over the last 5 years\n",
        "2. Company has released **Documentaries** in 2017 and 2019 and not in other years\n",
        "3. Company has released **Action & Adventure** in 2019 and 2021 and not in other years\n",
        "4. Company has released **Independent Movies** in 2019 and not in other years\n"
      ],
      "metadata": {
        "id": "5YC8Vw0r7Gh0"
      }
    },
    {
      "cell_type": "markdown",
      "source": [
        "#####Q3. What is the best time to launch a TV show?"
      ],
      "metadata": {
        "id": "AwUa7EKo8TRJ"
      }
    },
    {
      "cell_type": "code",
      "source": [
        "##Q3. What is the best time to launch a TV show?\n",
        "temp=final_df[['show_id','type','month','dayofweek']]\n",
        "temp=temp.drop_duplicates()\n",
        "\n",
        "besttimeforShows=temp[temp['type'] == \"TV Show\"].groupby(by=['type','month','dayofweek'])['show_id'].count().to_frame()\n",
        "besttimeforShows.columns = ['count']\n",
        "besttimeforShows = besttimeforShows.sort_values(by=['count','month','dayofweek'] ,  ascending = False).reset_index()\n",
        "\n",
        "plt.figure(figsize = [15,8]);\n",
        "x=sns.barplot(x='dayofweek', y='count',hue='month', data=besttimeforShows)\n",
        "plt.legend( loc=\"upper right\", ncol=3, frameon = False)\n",
        "plt.xticks(rotation = 45)\n",
        "plt.ylabel(\"CountofTvShows\") \n",
        "for p in x.patches: ##Setting data labels\n",
        "             x.annotate(\"%.0f\" % p.get_height(), (p.get_x() + p.get_width() / 2., p.get_height()),\n",
        "                 ha='center', va='center', fontsize=10, color='black', xytext=(0, 5),\n",
        "                 textcoords='offset points')\n",
        "plt.show()"
      ],
      "metadata": {
        "colab": {
          "base_uri": "https://localhost:8080/",
          "height": 498
        },
        "id": "Ftid68p3qZOK",
        "outputId": "a5111059-3644-47e8-be79-cbbc5e3e7154"
      },
      "execution_count": null,
      "outputs": [
        {
          "output_type": "display_data",
          "data": {
            "text/plain": [
              "<Figure size 1080x576 with 1 Axes>"
            ],
            "image/png": "[encoded data removed]"
          },
          "metadata": {
            "needs_background": "light"
          }
        }
      ]
    },
    {
      "cell_type": "markdown",
      "source": [
        "Below can be observed for the above plot:\n",
        "\n",
        "1. Company is releasing more TV shows on **4th day of the week** i.e., on **Fridays** and least number on **6th day of the week** i.e., on **Sundays**\n",
        "(Week starts on Monday,so Monday=0, Friday=4 and Sunday=6)\n",
        "2. Company is releasing more TV shows on **12th month of the year** i.e., in **December**\n",
        "(Year starts on January, Januray=0 and December=12)\n",
        "3. Company is also focusing to release more TV shows in **7th and 9th month of the year** i.e., in **January, July, September and November**\n",
        "\n"
      ],
      "metadata": {
        "id": "yS2lqlJ_-t-J"
      }
    },
    {
      "cell_type": "markdown",
      "source": [
        "#####Q4. Analysis of actors/directors of different types of shows/movies"
      ],
      "metadata": {
        "id": "2MEeCKhS8XJ0"
      }
    },
    {
      "cell_type": "code",
      "source": [
        "##Q4. Analysis of actors/directors of different types of shows/movies\n",
        "temp=final_df[['ShowType','cast','show_id']]\n",
        "temp=temp.drop_duplicates()\n",
        "\n",
        "castfortype=temp.groupby(by=['cast','ShowType'])['show_id'].count().to_frame()\n",
        "castfortype.columns = ['count']\n",
        "castfortype = castfortype.sort_values(by=['count','ShowType'] ,  ascending = False).head(20).reset_index()\n",
        "#castforyear.describe\n",
        "plt.figure(figsize = [18,8]);\n",
        "sns.barplot(x='cast', y='count', hue='ShowType', data=castfortype)\n",
        "plt.legend( loc=\"upper right\", ncol=3, frameon = False)\n",
        "plt.xticks(rotation = 90)\n",
        "plt.show()"
      ],
      "metadata": {
        "colab": {
          "base_uri": "https://localhost:8080/",
          "height": 581
        },
        "id": "SB1SCmUPqsfz",
        "outputId": "6cfdc605-2d5f-4915-ca08-e3fc3f0735f2"
      },
      "execution_count": null,
      "outputs": [
        {
          "output_type": "display_data",
          "data": {
            "text/plain": [
              "<Figure size 1296x576 with 1 Axes>"
            ],
            "image/png": "[encoded data removed]"
          },
          "metadata": {
            "needs_background": "light"
          }
        }
      ]
    },
    {
      "cell_type": "markdown",
      "source": [
        "Below can be observed for the above plot:\n",
        "1. For International Movies, most favoured casts are Anupam Kher and Shahrukh Khan\n",
        "2. For Dramas, most favoured casts are Anupam Kher, Shahrukh Khan and Naseeruddin Shah\n",
        "3. For Children & Family Movies, most favoured casts are Julie Tejwani and Rupa Bhimani\n",
        "4. For International TV Shows, most favoured cast is Takahiro Sakurai\n",
        "5. For Anime series, most favoured cast is Takahiro Sakurai"
      ],
      "metadata": {
        "id": "jzus3IkHBuFT"
      }
    },
    {
      "cell_type": "markdown",
      "source": [
        "#####Q6. Understanding what content is available in different countries"
      ],
      "metadata": {
        "id": "yP9AlgXhDPWQ"
      }
    },
    {
      "cell_type": "code",
      "source": [
        "##Q6. Understanding what content is available in different countries\n",
        "temp=final_df[['show_id','ShowType','country']]\n",
        "temp=temp.drop_duplicates()\n",
        "\n",
        "ShowsInCountry=temp.groupby(by=['country','ShowType'])['ShowType'].count().to_frame()\n",
        "ShowsInCountry.columns = ['count']\n",
        "ShowsInCountry = ShowsInCountry.sort_values(by=['count','ShowType'] ,  ascending = False).head(30).reset_index()\n",
        "\n",
        "plt.figure(figsize = [15,5]);\n",
        "sns.barplot(x='ShowType', y='count', hue='country', data=ShowsInCountry)\n",
        "plt.legend( loc=\"upper right\", ncol=3, frameon = False)\n",
        "plt.xticks(rotation = 90)\n",
        "plt.ylabel(\"CountofTvShows\")\n",
        "plt.show()"
      ],
      "metadata": {
        "colab": {
          "base_uri": "https://localhost:8080/",
          "height": 450
        },
        "id": "6b6RarRup6wK",
        "outputId": "ba0006a8-c94f-414a-8e84-2cb5fc45dd59"
      },
      "execution_count": null,
      "outputs": [
        {
          "output_type": "display_data",
          "data": {
            "text/plain": [
              "<Figure size 1080x360 with 1 Axes>"
            ],
            "image/png": "[encoded data removed]"
          },
          "metadata": {
            "needs_background": "light"
          }
        }
      ]
    },
    {
      "cell_type": "markdown",
      "source": [
        "Below can be observed for the above plot:\n",
        "\n",
        "1. In India, most released content is for International Movies, Dramas, Comedies and Independent Movies\n",
        "2. British TV Shows are favoured only in United Kingdom\n",
        "3. In Japan, International TV Shows and  Anime Series are mostly released\n",
        "4. In South Korea, Internal TV Shows are mostly released"
      ],
      "metadata": {
        "id": "rs0CgqVsDTG_"
      }
    },
    {
      "cell_type": "markdown",
      "source": [
        "####Co-relation and Scatter Plot"
      ],
      "metadata": {
        "id": "ghY3wRTerNoH"
      }
    },
    {
      "cell_type": "code",
      "source": [
        "df_agg.head(3)"
      ],
      "metadata": {
        "colab": {
          "base_uri": "https://localhost:8080/",
          "height": 143
        },
        "id": "9ADQm12TrKcX",
        "outputId": "4ff4bd54-2637-4487-c5d7-0a1d13c8cc0a"
      },
      "execution_count": null,
      "outputs": [
        {
          "output_type": "execute_result",
          "data": {
            "text/plain": [
              "       country  year_min  year_max  show_id_count  Serviceyrs  movie_per_yr\n",
              "0                   2021      2021              2           1           2.0\n",
              "1  Afghanistan      2017      2017              1           1           1.0\n",
              "2      Albania      2018      2018              1           1           1.0"
            ],
            "text/html": [
              "\n",
              "  <div id=\"df-d7ecf6ea-74c1-4cfe-8715-38ddf35835f0\">\n",
              "    <div class=\"colab-df-container\">\n",
              "      <div>\n",
              "<style scoped>\n",
              "    .dataframe tbody tr th:only-of-type {\n",
              "        vertical-align: middle;\n",
              "    }\n",
              "\n",
              "    .dataframe tbody tr th {\n",
              "        vertical-align: top;\n",
              "    }\n",
              "\n",
              "    .dataframe thead th {\n",
              "        text-align: right;\n",
              "    }\n",
              "</style>\n",
              "<table border=\"1\" class=\"dataframe\">\n",
              "  <thead>\n",
              "    <tr style=\"text-align: right;\">\n",
              "      <th></th>\n",
              "      <th>country</th>\n",
              "      <th>year_min</th>\n",
              "      <th>year_max</th>\n",
              "      <th>show_id_count</th>\n",
              "      <th>Serviceyrs</th>\n",
              "      <th>movie_per_yr</th>\n",
              "    </tr>\n",
              "  </thead>\n",
              "  <tbody>\n",
              "    <tr>\n",
              "      <th>0</th>\n",
              "      <td></td>\n",
              "      <td>2021</td>\n",
              "      <td>2021</td>\n",
              "      <td>2</td>\n",
              "      <td>1</td>\n",
              "      <td>2.0</td>\n",
              "    </tr>\n",
              "    <tr>\n",
              "      <th>1</th>\n",
              "      <td>Afghanistan</td>\n",
              "      <td>2017</td>\n",
              "      <td>2017</td>\n",
              "      <td>1</td>\n",
              "      <td>1</td>\n",
              "      <td>1.0</td>\n",
              "    </tr>\n",
              "    <tr>\n",
              "      <th>2</th>\n",
              "      <td>Albania</td>\n",
              "      <td>2018</td>\n",
              "      <td>2018</td>\n",
              "      <td>1</td>\n",
              "      <td>1</td>\n",
              "      <td>1.0</td>\n",
              "    </tr>\n",
              "  </tbody>\n",
              "</table>\n",
              "</div>\n",
              "      <button class=\"colab-df-convert\" onclick=\"convertToInteractive('df-d7ecf6ea-74c1-4cfe-8715-38ddf35835f0')\"\n",
              "              title=\"Convert this dataframe to an interactive table.\"\n",
              "              style=\"display:none;\">\n",
              "        \n",
              "  <svg xmlns=\"http://www.w3.org/2000/svg\" height=\"24px\"viewBox=\"0 0 24 24\"\n",
              "       width=\"24px\">\n",
              "    <path d=\"M0 0h24v24H0V0z\" fill=\"none\"/>\n",
              "    <path d=\"M18.56 5.44l.94 2.06.94-2.06 2.06-.94-2.06-.94-.94-2.06-.94 2.06-2.06.94zm-11 1L8.5 8.5l.94-2.06 2.06-.94-2.06-.94L8.5 2.5l-.94 2.06-2.06.94zm10 10l.94 2.06.94-2.06 2.06-.94-2.06-.94-.94-2.06-.94 2.06-2.06.94z\"/><path d=\"M17.41 7.96l-1.37-1.37c-.4-.4-.92-.59-1.43-.59-.52 0-1.04.2-1.43.59L10.3 9.45l-7.72 7.72c-.78.78-.78 2.05 0 2.83L4 21.41c.39.39.9.59 1.41.59.51 0 1.02-.2 1.41-.59l7.78-7.78 2.81-2.81c.8-.78.8-2.07 0-2.86zM5.41 20L4 18.59l7.72-7.72 1.47 1.35L5.41 20z\"/>\n",
              "  </svg>\n",
              "      </button>\n",
              "      \n",
              "  <style>\n",
              "    .colab-df-container {\n",
              "      display:flex;\n",
              "      flex-wrap:wrap;\n",
              "      gap: 12px;\n",
              "    }\n",
              "\n",
              "    .colab-df-convert {\n",
              "      background-color: #E8F0FE;\n",
              "      border: none;\n",
              "      border-radius: 50%;\n",
              "      cursor: pointer;\n",
              "      display: none;\n",
              "      fill: #1967D2;\n",
              "      height: 32px;\n",
              "      padding: 0 0 0 0;\n",
              "      width: 32px;\n",
              "    }\n",
              "\n",
              "    .colab-df-convert:hover {\n",
              "      background-color: #E2EBFA;\n",
              "      box-shadow: 0px 1px 2px rgba(60, 64, 67, 0.3), 0px 1px 3px 1px rgba(60, 64, 67, 0.15);\n",
              "      fill: #174EA6;\n",
              "    }\n",
              "\n",
              "    [theme=dark] .colab-df-convert {\n",
              "      background-color: #3B4455;\n",
              "      fill: #D2E3FC;\n",
              "    }\n",
              "\n",
              "    [theme=dark] .colab-df-convert:hover {\n",
              "      background-color: #434B5C;\n",
              "      box-shadow: 0px 1px 3px 1px rgba(0, 0, 0, 0.15);\n",
              "      filter: drop-shadow(0px 1px 2px rgba(0, 0, 0, 0.3));\n",
              "      fill: #FFFFFF;\n",
              "    }\n",
              "  </style>\n",
              "\n",
              "      <script>\n",
              "        const buttonEl =\n",
              "          document.querySelector('#df-d7ecf6ea-74c1-4cfe-8715-38ddf35835f0 button.colab-df-convert');\n",
              "        buttonEl.style.display =\n",
              "          google.colab.kernel.accessAllowed ? 'block' : 'none';\n",
              "\n",
              "        async function convertToInteractive(key) {\n",
              "          const element = document.querySelector('#df-d7ecf6ea-74c1-4cfe-8715-38ddf35835f0');\n",
              "          const dataTable =\n",
              "            await google.colab.kernel.invokeFunction('convertToInteractive',\n",
              "                                                     [key], {});\n",
              "          if (!dataTable) return;\n",
              "\n",
              "          const docLinkHtml = 'Like what you see? Visit the ' +\n",
              "            '<a target=\"_blank\" href=https://colab.research.google.com/notebooks/data_table.ipynb>data table notebook</a>'\n",
              "            + ' to learn more about interactive tables.';\n",
              "          element.innerHTML = '';\n",
              "          dataTable['output_type'] = 'display_data';\n",
              "          await google.colab.output.renderOutput(dataTable, element);\n",
              "          const docLink = document.createElement('div');\n",
              "          docLink.innerHTML = docLinkHtml;\n",
              "          element.appendChild(docLink);\n",
              "        }\n",
              "      </script>\n",
              "    </div>\n",
              "  </div>\n",
              "  "
            ]
          },
          "metadata": {},
          "execution_count": 32
        }
      ]
    },
    {
      "cell_type": "code",
      "source": [
        "df_agg.corr()"
      ],
      "metadata": {
        "colab": {
          "base_uri": "https://localhost:8080/",
          "height": 206
        },
        "id": "cMU_4IFcrUot",
        "outputId": "abf922e8-1efa-4840-9f05-b7feff09de46"
      },
      "execution_count": null,
      "outputs": [
        {
          "output_type": "execute_result",
          "data": {
            "text/plain": [
              "               year_min  year_max  show_id_count  Serviceyrs  movie_per_yr\n",
              "year_min       1.000000 -0.076922      -0.469385   -0.826311     -0.457788\n",
              "year_max      -0.076922  1.000000       0.149895    0.625106      0.193294\n",
              "show_id_count -0.469385  0.149895       1.000000    0.452136      0.949869\n",
              "Serviceyrs    -0.826311  0.625106       0.452136    1.000000      0.467573\n",
              "movie_per_yr  -0.457788  0.193294       0.949869    0.467573      1.000000"
            ],
            "text/html": [
              "\n",
              "  <div id=\"df-ada576dc-9be0-4d05-bc9e-2f715332f6c4\">\n",
              "    <div class=\"colab-df-container\">\n",
              "      <div>\n",
              "<style scoped>\n",
              "    .dataframe tbody tr th:only-of-type {\n",
              "        vertical-align: middle;\n",
              "    }\n",
              "\n",
              "    .dataframe tbody tr th {\n",
              "        vertical-align: top;\n",
              "    }\n",
              "\n",
              "    .dataframe thead th {\n",
              "        text-align: right;\n",
              "    }\n",
              "</style>\n",
              "<table border=\"1\" class=\"dataframe\">\n",
              "  <thead>\n",
              "    <tr style=\"text-align: right;\">\n",
              "      <th></th>\n",
              "      <th>year_min</th>\n",
              "      <th>year_max</th>\n",
              "      <th>show_id_count</th>\n",
              "      <th>Serviceyrs</th>\n",
              "      <th>movie_per_yr</th>\n",
              "    </tr>\n",
              "  </thead>\n",
              "  <tbody>\n",
              "    <tr>\n",
              "      <th>year_min</th>\n",
              "      <td>1.000000</td>\n",
              "      <td>-0.076922</td>\n",
              "      <td>-0.469385</td>\n",
              "      <td>-0.826311</td>\n",
              "      <td>-0.457788</td>\n",
              "    </tr>\n",
              "    <tr>\n",
              "      <th>year_max</th>\n",
              "      <td>-0.076922</td>\n",
              "      <td>1.000000</td>\n",
              "      <td>0.149895</td>\n",
              "      <td>0.625106</td>\n",
              "      <td>0.193294</td>\n",
              "    </tr>\n",
              "    <tr>\n",
              "      <th>show_id_count</th>\n",
              "      <td>-0.469385</td>\n",
              "      <td>0.149895</td>\n",
              "      <td>1.000000</td>\n",
              "      <td>0.452136</td>\n",
              "      <td>0.949869</td>\n",
              "    </tr>\n",
              "    <tr>\n",
              "      <th>Serviceyrs</th>\n",
              "      <td>-0.826311</td>\n",
              "      <td>0.625106</td>\n",
              "      <td>0.452136</td>\n",
              "      <td>1.000000</td>\n",
              "      <td>0.467573</td>\n",
              "    </tr>\n",
              "    <tr>\n",
              "      <th>movie_per_yr</th>\n",
              "      <td>-0.457788</td>\n",
              "      <td>0.193294</td>\n",
              "      <td>0.949869</td>\n",
              "      <td>0.467573</td>\n",
              "      <td>1.000000</td>\n",
              "    </tr>\n",
              "  </tbody>\n",
              "</table>\n",
              "</div>\n",
              "      <button class=\"colab-df-convert\" onclick=\"convertToInteractive('df-ada576dc-9be0-4d05-bc9e-2f715332f6c4')\"\n",
              "              title=\"Convert this dataframe to an interactive table.\"\n",
              "              style=\"display:none;\">\n",
              "        \n",
              "  <svg xmlns=\"http://www.w3.org/2000/svg\" height=\"24px\"viewBox=\"0 0 24 24\"\n",
              "       width=\"24px\">\n",
              "    <path d=\"M0 0h24v24H0V0z\" fill=\"none\"/>\n",
              "    <path d=\"M18.56 5.44l.94 2.06.94-2.06 2.06-.94-2.06-.94-.94-2.06-.94 2.06-2.06.94zm-11 1L8.5 8.5l.94-2.06 2.06-.94-2.06-.94L8.5 2.5l-.94 2.06-2.06.94zm10 10l.94 2.06.94-2.06 2.06-.94-2.06-.94-.94-2.06-.94 2.06-2.06.94z\"/><path d=\"M17.41 7.96l-1.37-1.37c-.4-.4-.92-.59-1.43-.59-.52 0-1.04.2-1.43.59L10.3 9.45l-7.72 7.72c-.78.78-.78 2.05 0 2.83L4 21.41c.39.39.9.59 1.41.59.51 0 1.02-.2 1.41-.59l7.78-7.78 2.81-2.81c.8-.78.8-2.07 0-2.86zM5.41 20L4 18.59l7.72-7.72 1.47 1.35L5.41 20z\"/>\n",
              "  </svg>\n",
              "      </button>\n",
              "      \n",
              "  <style>\n",
              "    .colab-df-container {\n",
              "      display:flex;\n",
              "      flex-wrap:wrap;\n",
              "      gap: 12px;\n",
              "    }\n",
              "\n",
              "    .colab-df-convert {\n",
              "      background-color: #E8F0FE;\n",
              "      border: none;\n",
              "      border-radius: 50%;\n",
              "      cursor: pointer;\n",
              "      display: none;\n",
              "      fill: #1967D2;\n",
              "      height: 32px;\n",
              "      padding: 0 0 0 0;\n",
              "      width: 32px;\n",
              "    }\n",
              "\n",
              "    .colab-df-convert:hover {\n",
              "      background-color: #E2EBFA;\n",
              "      box-shadow: 0px 1px 2px rgba(60, 64, 67, 0.3), 0px 1px 3px 1px rgba(60, 64, 67, 0.15);\n",
              "      fill: #174EA6;\n",
              "    }\n",
              "\n",
              "    [theme=dark] .colab-df-convert {\n",
              "      background-color: #3B4455;\n",
              "      fill: #D2E3FC;\n",
              "    }\n",
              "\n",
              "    [theme=dark] .colab-df-convert:hover {\n",
              "      background-color: #434B5C;\n",
              "      box-shadow: 0px 1px 3px 1px rgba(0, 0, 0, 0.15);\n",
              "      filter: drop-shadow(0px 1px 2px rgba(0, 0, 0, 0.3));\n",
              "      fill: #FFFFFF;\n",
              "    }\n",
              "  </style>\n",
              "\n",
              "      <script>\n",
              "        const buttonEl =\n",
              "          document.querySelector('#df-ada576dc-9be0-4d05-bc9e-2f715332f6c4 button.colab-df-convert');\n",
              "        buttonEl.style.display =\n",
              "          google.colab.kernel.accessAllowed ? 'block' : 'none';\n",
              "\n",
              "        async function convertToInteractive(key) {\n",
              "          const element = document.querySelector('#df-ada576dc-9be0-4d05-bc9e-2f715332f6c4');\n",
              "          const dataTable =\n",
              "            await google.colab.kernel.invokeFunction('convertToInteractive',\n",
              "                                                     [key], {});\n",
              "          if (!dataTable) return;\n",
              "\n",
              "          const docLinkHtml = 'Like what you see? Visit the ' +\n",
              "            '<a target=\"_blank\" href=https://colab.research.google.com/notebooks/data_table.ipynb>data table notebook</a>'\n",
              "            + ' to learn more about interactive tables.';\n",
              "          element.innerHTML = '';\n",
              "          dataTable['output_type'] = 'display_data';\n",
              "          await google.colab.output.renderOutput(dataTable, element);\n",
              "          const docLink = document.createElement('div');\n",
              "          docLink.innerHTML = docLinkHtml;\n",
              "          element.appendChild(docLink);\n",
              "        }\n",
              "      </script>\n",
              "    </div>\n",
              "  </div>\n",
              "  "
            ]
          },
          "metadata": {},
          "execution_count": 33
        }
      ]
    },
    {
      "cell_type": "code",
      "source": [
        "sns.heatmap(df_agg.corr(), cmap=\"Reds\", annot=True)\n",
        "plt.show()"
      ],
      "metadata": {
        "colab": {
          "base_uri": "https://localhost:8080/",
          "height": 332
        },
        "id": "hKIySigbrW_I",
        "outputId": "c1e36a1a-9466-43e3-e919-d4502b56781d"
      },
      "execution_count": null,
      "outputs": [
        {
          "output_type": "display_data",
          "data": {
            "text/plain": [
              "<Figure size 432x288 with 2 Axes>"
            ],
            "image/png": "[encoded data removed]"
          },
          "metadata": {
            "needs_background": "light"
          }
        }
      ]
    },
    {
      "cell_type": "markdown",
      "source": [
        "Below can be observed from the above plot:\n",
        "Serviceyrs (Number of years the company has been releasing shows in a country) is positively co-related with movie_per_yr"
      ],
      "metadata": {
        "id": "BzQRzOeWFHPn"
      }
    },
    {
      "cell_type": "markdown",
      "source": [
        "###6. Missing Value & Outlier check (Treatment optional)"
      ],
      "metadata": {
        "id": "YsTueP0ukOUG"
      }
    },
    {
      "cell_type": "code",
      "source": [
        "df.isnull().sum() ##Null Values"
      ],
      "metadata": {
        "colab": {
          "base_uri": "https://localhost:8080/"
        },
        "id": "scdB14yErhLd",
        "outputId": "1a4d3f27-4810-464d-c63d-cf619a45a59f"
      },
      "execution_count": null,
      "outputs": [
        {
          "output_type": "execute_result",
          "data": {
            "text/plain": [
              "show_id            0\n",
              "type               0\n",
              "title              0\n",
              "director        2634\n",
              "cast             825\n",
              "country          831\n",
              "date_added        10\n",
              "release_year       0\n",
              "rating             4\n",
              "duration           3\n",
              "listed_in          0\n",
              "description        0\n",
              "dtype: int64"
            ]
          },
          "metadata": {},
          "execution_count": 36
        }
      ]
    },
    {
      "cell_type": "markdown",
      "source": [
        "It can be observed that \"director\" field has most number of null entries followed by cast and country."
      ],
      "metadata": {
        "id": "MtuzaG7DGsza"
      }
    },
    {
      "cell_type": "code",
      "source": [
        "mis_val_per = df.isnull().sum()/len(df)*100 ##Percenatge of missing value for each column\n",
        "mis_val_per"
      ],
      "metadata": {
        "colab": {
          "base_uri": "https://localhost:8080/"
        },
        "id": "zklw8nITFvrM",
        "outputId": "950065e3-90d0-484e-8f1b-f2bfc8300541"
      },
      "execution_count": null,
      "outputs": [
        {
          "output_type": "execute_result",
          "data": {
            "text/plain": [
              "show_id          0.000000\n",
              "type             0.000000\n",
              "title            0.000000\n",
              "director        29.908028\n",
              "cast             9.367549\n",
              "country          9.435676\n",
              "date_added       0.113546\n",
              "release_year     0.000000\n",
              "rating           0.045418\n",
              "duration         0.034064\n",
              "listed_in        0.000000\n",
              "description      0.000000\n",
              "dtype: float64"
            ]
          },
          "metadata": {},
          "execution_count": 37
        }
      ]
    },
    {
      "cell_type": "markdown",
      "source": [
        "Above analysis shows that around 30% of data for director field has no value/null value"
      ],
      "metadata": {
        "id": "M3nNDDvoHRPD"
      }
    },
    {
      "cell_type": "code",
      "source": [
        "sns.countplot(data = df , x = 'rating')\n",
        "plt.xticks(rotation=75)\n",
        "plt.show()"
      ],
      "metadata": {
        "colab": {
          "base_uri": "https://localhost:8080/",
          "height": 314
        },
        "id": "7ngiAFwvIXfz",
        "outputId": "25457e67-55a0-41ef-d7a2-0b84166bbf52"
      },
      "execution_count": null,
      "outputs": [
        {
          "output_type": "display_data",
          "data": {
            "text/plain": [
              "<Figure size 432x288 with 1 Axes>"
            ],
            "image/png": "[encoded data removed]"
          },
          "metadata": {
            "needs_background": "light"
          }
        }
      ]
    },
    {
      "cell_type": "markdown",
      "source": [
        "Above plot shows viewer rating analysis which has data=74 min, 84 min and 66 min as rating which can be considered as outliers in this data and doesn't belongs to the category of Viewer-rating"
      ],
      "metadata": {
        "id": "7ntannL4Ilwt"
      }
    },
    {
      "cell_type": "markdown",
      "source": [
        "#####Missing data treatment:\n",
        "1. Treatment of missing data for cast can be done by checking most-favoured cast for the country, show type and year\n",
        "2. Same can be done for director\n",
        "3. In case of country, it can be assumed basis the show type and where it is favoured most"
      ],
      "metadata": {
        "id": "VC7Nz6NeI_qd"
      }
    }
  ]
}